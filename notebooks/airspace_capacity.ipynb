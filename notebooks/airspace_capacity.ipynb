{
 "cells": [
  {
   "cell_type": "markdown",
   "metadata": {},
   "source": [
    "Mayo 2021\n",
    "# Maximum Transportation\n",
    "### Objetivo\n",
    "Resolver una versión simplificada del problema de airline scheduling, al que llamamos *airport capacity*.\n",
    "\n",
    "### Descripción del Problema de Optimización\n",
    "\n",
    "**Airline Scheduling**\n",
    "\n",
    "La industria aeroespacial es uno de los mercados más grandes y redituables del mundo. En esta industria cada movimiento es muy costoso y se disponen de recursos limitados (cierto número de aviones, pilotos, sobrecargos, vuelos antes del mantenimiento, horarios de despegue y aterrizaje, etc), por lo que deben de ser utilizados de manera eficiente para maximizar las ganancias de la aerolínea. Este es uno de los problemas más importantes de la industria y hasta ahora no tiene solución exacta. Resolver el problema de *airline scheduling* significa obtener un itinerario de los vuelos de la aerolínea en el que el mínimo número de aviones estén volando el mayor tiempo posible. Aquí es donde resulta útil el algoritmo de Ford – Fulkerson para flujo máximo.\n",
    "\n",
    "**Maximum Transportation**\n",
    "\n",
    "Este problema es un derivado del problema de *airline scheduling* y no tiene un nombre estándar por lo que lo llamaremos *maximum transportation*. En este caso no nos enfocamos tanto en las aerolíneas en sí, si no en los aeropuertos en los que tienen sede. Se toman en cuenta horarios definidos de despegues y aterrizajes, cantidad de pasajeros por vuelo así como posibles escalas que puedan tenerse para obtener el máximo número de personas que pueden volar de una ciudad a otra con los vuelos actualmente disponibles.\n",
    "\n",
    "En nuestro caso, para simplificar la resolución del problema asumiremos que todas las escalas son posibles independientemente de las horas de despegue y aterrizaje.\n",
    "\n",
    "Decimos que se trata de un problema derivado del anterior ya que estamos hablando de restricciones específicas de aviones, si estuvieramos hablando de trenes entonces nos encontrariamos con que el problema de *maximum transportation* es el problema original con el T. E. Harris y F. S. Ross plantearon por primera vez el problema de flujo máximo en su artículo de 1954.\n",
    "\n",
    "\n",
    "### Decripción del dataset\n",
    "El dataset a utilizar viene de un repositorio en [github](https://github.com/sid-7/Airline_Maximum_Flow). Originalmente, estos datos fueron obtenidos utilizando la [API](https://api.flightstats.com/flex/schedules/rest/v1/json/from/LAX/to/JFK/departing/2019/1/6) de [flightstats](https://developer.flightstats.com/) pero elegímos utilizar los del repositorio por facilidad ya que se encontraban limpios y en el formato y con los joins que necesitabamos.\n",
    "\n",
    "El dataset contiene información de los vuelos del 6 enero de 2019 de una cierta aerolínea en Estados Unidos y muestra los registros de sus 565 vuelos de ese día para únicamente 10 aeropuertos. En vez de colocar el nombre explícito del aeropuerto, se muestra su identificador único de 3 letras, a continuación diccionario:\n",
    "\n",
    "| Identificador | Nombre | Ciudad |\n",
    "|---------------|--------|--------|\n",
    "| ATL | Hartsfield-Jackson Atlanta International | Atlanta |\n",
    "| BOS | Boston-Logan International | Boston |\n",
    "| DEN | Denver International | Denver |\n",
    "| IAD | Washington Dulles International | Washington |\n",
    "| JFK | New York John F. Kennedy International | New York |\n",
    "| LAX | Los Angeles International | Los Angeles |\n",
    "| ORD | Chicago O'Hare International | Chicago |\n",
    "| PHX | Phoenix Sky Harbor International | Phoenix |\n",
    "| SEA | Seattle-Tacoma International | Seattle |\n",
    "| SFO | San Francisco International | San Francisco |\n",
    "\n",
    "El dataset cuenta con cinco columnas:\n",
    "\n",
    "   + Source: identificador del aeropuerto origen del que sale el vuelo\n",
    "   + Destination: identificador del aeropuerto destino al que llega el vuelo\n",
    "   + Departure: hora de despegue del vuelo en el aeropuerto origen en horas militares\n",
    "   + Arrival: hora de aterrizaje del vuelo en el aeropuerto destino en horas militares\n",
    "   + capacity: cantidad máxima de pasajeros que puede transportar el vuelo (sin contar al crew)\n",
    "\n",
    "Además, no presenta ningún valor nulo.\n",
    "\n"
   ]
  },
  {
   "cell_type": "code",
   "execution_count": 1,
   "metadata": {},
   "outputs": [],
   "source": [
    "import requests\n",
    "import pandas as pd\n",
    "import numpy as np\n",
    "import networkx as nx\n",
    "import matplotlib.pyplot as plt\n",
    "from timeit import timeit"
   ]
  },
  {
   "cell_type": "code",
   "execution_count": 40,
   "metadata": {},
   "outputs": [],
   "source": [
    "url = 'https://raw.githubusercontent.com/sid-7/Airline_Maximum_Flow/master/flights.csv'\n",
    "df = pd.read_csv(url,index_col=0,parse_dates=[0])"
   ]
  },
  {
   "cell_type": "code",
   "execution_count": 41,
   "metadata": {},
   "outputs": [
    {
     "data": {
      "text/html": [
       "<div>\n",
       "<style scoped>\n",
       "    .dataframe tbody tr th:only-of-type {\n",
       "        vertical-align: middle;\n",
       "    }\n",
       "\n",
       "    .dataframe tbody tr th {\n",
       "        vertical-align: top;\n",
       "    }\n",
       "\n",
       "    .dataframe thead th {\n",
       "        text-align: right;\n",
       "    }\n",
       "</style>\n",
       "<table border=\"1\" class=\"dataframe\">\n",
       "  <thead>\n",
       "    <tr style=\"text-align: right;\">\n",
       "      <th></th>\n",
       "      <th>Source</th>\n",
       "      <th>Destination</th>\n",
       "      <th>Depature</th>\n",
       "      <th>Arrival</th>\n",
       "      <th>capacity</th>\n",
       "    </tr>\n",
       "  </thead>\n",
       "  <tbody>\n",
       "    <tr>\n",
       "      <th>0</th>\n",
       "      <td>ORD</td>\n",
       "      <td>ATL</td>\n",
       "      <td>530</td>\n",
       "      <td>829</td>\n",
       "      <td>185</td>\n",
       "    </tr>\n",
       "    <tr>\n",
       "      <th>1</th>\n",
       "      <td>BOS</td>\n",
       "      <td>ATL</td>\n",
       "      <td>545</td>\n",
       "      <td>854</td>\n",
       "      <td>185</td>\n",
       "    </tr>\n",
       "    <tr>\n",
       "      <th>2</th>\n",
       "      <td>LAX</td>\n",
       "      <td>SEA</td>\n",
       "      <td>600</td>\n",
       "      <td>900</td>\n",
       "      <td>165</td>\n",
       "    </tr>\n",
       "    <tr>\n",
       "      <th>3</th>\n",
       "      <td>PHX</td>\n",
       "      <td>ATL</td>\n",
       "      <td>600</td>\n",
       "      <td>1127</td>\n",
       "      <td>185</td>\n",
       "    </tr>\n",
       "    <tr>\n",
       "      <th>4</th>\n",
       "      <td>SFO</td>\n",
       "      <td>ATL</td>\n",
       "      <td>600</td>\n",
       "      <td>1332</td>\n",
       "      <td>230</td>\n",
       "    </tr>\n",
       "    <tr>\n",
       "      <th>...</th>\n",
       "      <td>...</td>\n",
       "      <td>...</td>\n",
       "      <td>...</td>\n",
       "      <td>...</td>\n",
       "      <td>...</td>\n",
       "    </tr>\n",
       "    <tr>\n",
       "      <th>146</th>\n",
       "      <td>BOS</td>\n",
       "      <td>ORD</td>\n",
       "      <td>1330</td>\n",
       "      <td>1533</td>\n",
       "      <td>160</td>\n",
       "    </tr>\n",
       "    <tr>\n",
       "      <th>147</th>\n",
       "      <td>BOS</td>\n",
       "      <td>ORD</td>\n",
       "      <td>600</td>\n",
       "      <td>805</td>\n",
       "      <td>160</td>\n",
       "    </tr>\n",
       "    <tr>\n",
       "      <th>148</th>\n",
       "      <td>BOS</td>\n",
       "      <td>JFK</td>\n",
       "      <td>601</td>\n",
       "      <td>726</td>\n",
       "      <td>102</td>\n",
       "    </tr>\n",
       "    <tr>\n",
       "      <th>149</th>\n",
       "      <td>BOS</td>\n",
       "      <td>JFK</td>\n",
       "      <td>1217</td>\n",
       "      <td>1339</td>\n",
       "      <td>128</td>\n",
       "    </tr>\n",
       "    <tr>\n",
       "      <th>150</th>\n",
       "      <td>BOS</td>\n",
       "      <td>JFK</td>\n",
       "      <td>933</td>\n",
       "      <td>1059</td>\n",
       "      <td>160</td>\n",
       "    </tr>\n",
       "  </tbody>\n",
       "</table>\n",
       "<p>565 rows × 5 columns</p>\n",
       "</div>"
      ],
      "text/plain": [
       "    Source Destination  Depature  Arrival  capacity\n",
       "0      ORD         ATL       530      829       185\n",
       "1      BOS         ATL       545      854       185\n",
       "2      LAX         SEA       600      900       165\n",
       "3      PHX         ATL       600     1127       185\n",
       "4      SFO         ATL       600     1332       230\n",
       "..     ...         ...       ...      ...       ...\n",
       "146    BOS         ORD      1330     1533       160\n",
       "147    BOS         ORD       600      805       160\n",
       "148    BOS         JFK       601      726       102\n",
       "149    BOS         JFK      1217     1339       128\n",
       "150    BOS         JFK       933     1059       160\n",
       "\n",
       "[565 rows x 5 columns]"
      ]
     },
     "execution_count": 41,
     "metadata": {},
     "output_type": "execute_result"
    }
   ],
   "source": [
    "df"
   ]
  },
  {
   "cell_type": "code",
   "execution_count": 42,
   "metadata": {},
   "outputs": [],
   "source": [
    "data = df.values"
   ]
  },
  {
   "cell_type": "markdown",
   "metadata": {},
   "source": [
    "## Solución con ffmaxflow\n",
    "Supongamos que queremos saber el el máximo número de personas que pueden viajar de Denver a Atlanta."
   ]
  },
  {
   "cell_type": "code",
   "execution_count": 5,
   "metadata": {},
   "outputs": [],
   "source": [
    "import ffmaxflow as ff"
   ]
  },
  {
   "cell_type": "code",
   "execution_count": 6,
   "metadata": {},
   "outputs": [],
   "source": [
    "red = ff.create_flow_network()"
   ]
  },
  {
   "cell_type": "code",
   "execution_count": 7,
   "metadata": {},
   "outputs": [
    {
     "data": {
      "text/plain": [
       "array(['ATL', 'BOS', 'DEN', 'IAD', 'JFK', 'LAX', 'ORD', 'PHX', 'SEA',\n",
       "       'SFO'], dtype=object)"
      ]
     },
     "execution_count": 7,
     "metadata": {},
     "output_type": "execute_result"
    }
   ],
   "source": [
    "unique_nodes = np.unique(np.hstack((data[:,0],data[:,1])))\n",
    "unique_nodes"
   ]
  },
  {
   "cell_type": "code",
   "execution_count": 8,
   "metadata": {},
   "outputs": [],
   "source": [
    "for node in unique_nodes:\n",
    "    \n",
    "    if node == 'DEN':\n",
    "        red.create_vertex('{}'.format(node), True, False)\n",
    "    \n",
    "    elif node == 'ATL':\n",
    "        red.create_vertex('{}'.format(node), False, True)\n",
    "    \n",
    "    else:\n",
    "        red.create_vertex('{}'.format(node), False, False)"
   ]
  },
  {
   "cell_type": "code",
   "execution_count": 10,
   "metadata": {},
   "outputs": [],
   "source": [
    "for row in range(data.shape[0]):\n",
    "    red.create_edge('{}'.format(data[row,0]), '{}'.format(data[row,1]), data[row,4])"
   ]
  },
  {
   "cell_type": "code",
   "execution_count": 11,
   "metadata": {},
   "outputs": [
    {
     "name": "stdout",
     "output_type": "stream",
     "text": [
      "CPU times: user 1min 1s, sys: 0 ns, total: 1min 1s\n",
      "Wall time: 1min 1s\n"
     ]
    },
    {
     "data": {
      "text/plain": [
       "10179"
      ]
     },
     "execution_count": 11,
     "metadata": {},
     "output_type": "execute_result"
    }
   ],
   "source": [
    "%%time\n",
    "red.MaxFlow()"
   ]
  },
  {
   "cell_type": "markdown",
   "metadata": {},
   "source": [
    "## Solución con ffmaxc"
   ]
  },
  {
   "cell_type": "markdown",
   "metadata": {},
   "source": [
    "Instalamos el paquete de la reimplementación:"
   ]
  },
  {
   "cell_type": "code",
   "execution_count": 12,
   "metadata": {},
   "outputs": [
    {
     "name": "stdout",
     "output_type": "stream",
     "text": [
      "Processing /home/diramtz/Documents/Optimizacion/ProyectoFinal_MaxFlow/ffmaxc\n",
      "Building wheels for collected packages: UNKNOWN\n",
      "  Building wheel for UNKNOWN (setup.py) ... \u001b[?25ldone\n",
      "\u001b[?25h  Created wheel for UNKNOWN: filename=UNKNOWN-0.0.0-cp38-cp38-linux_x86_64.whl size=250166 sha256=f8a7122f23e6dcd43713458b9f33677cd70853e129c4c7f020c1e7d5410ea1f1\n",
      "  Stored in directory: /tmp/pip-ephem-wheel-cache-g7i8kfz7/wheels/64/ec/00/07fbc8f81d14bd6e084a678ffbbd60843bf4aaa867d0489e69\n",
      "Successfully built UNKNOWN\n",
      "Installing collected packages: UNKNOWN\n",
      "  Attempting uninstall: UNKNOWN\n",
      "    Found existing installation: UNKNOWN 0.0.0\n",
      "    Uninstalling UNKNOWN-0.0.0:\n",
      "      Successfully uninstalled UNKNOWN-0.0.0\n",
      "Successfully installed UNKNOWN-0.0.0\n"
     ]
    }
   ],
   "source": [
    "!pip install ../ffmaxc/"
   ]
  },
  {
   "cell_type": "code",
   "execution_count": 13,
   "metadata": {},
   "outputs": [],
   "source": [
    "import ffmaxc as ffc"
   ]
  },
  {
   "cell_type": "markdown",
   "metadata": {},
   "source": [
    "Creamos la red y encontramos los nodos únicos:"
   ]
  },
  {
   "cell_type": "code",
   "execution_count": 14,
   "metadata": {},
   "outputs": [],
   "source": [
    "red = ffc.create_flow_network()"
   ]
  },
  {
   "cell_type": "code",
   "execution_count": 15,
   "metadata": {},
   "outputs": [
    {
     "data": {
      "text/plain": [
       "array(['ATL', 'BOS', 'DEN', 'IAD', 'JFK', 'LAX', 'ORD', 'PHX', 'SEA',\n",
       "       'SFO'], dtype=object)"
      ]
     },
     "execution_count": 15,
     "metadata": {},
     "output_type": "execute_result"
    }
   ],
   "source": [
    "unique_nodes = np.unique(np.hstack((data[:,0],data[:,1])))\n",
    "unique_nodes"
   ]
  },
  {
   "cell_type": "code",
   "execution_count": 16,
   "metadata": {},
   "outputs": [],
   "source": [
    "for node in unique_nodes:\n",
    "    \n",
    "    if node == 'DEN':\n",
    "        red.create_vertex('{}'.format(node), True, False)\n",
    "    \n",
    "    elif node == 'ATL':\n",
    "        red.create_vertex('{}'.format(node), False, True)\n",
    "    \n",
    "    else:\n",
    "        red.create_vertex('{}'.format(node), False, False)"
   ]
  },
  {
   "cell_type": "markdown",
   "metadata": {},
   "source": [
    "Definimos los arcos:"
   ]
  },
  {
   "cell_type": "code",
   "execution_count": 18,
   "metadata": {},
   "outputs": [],
   "source": [
    "for row in range(data.shape[0]):\n",
    "    red.create_edge('{}'.format(data[row,0]), '{}'.format(data[row,1]), data[row,4])"
   ]
  },
  {
   "cell_type": "code",
   "execution_count": 19,
   "metadata": {},
   "outputs": [
    {
     "name": "stdout",
     "output_type": "stream",
     "text": [
      "CPU times: user 59.1 s, sys: 103 ms, total: 59.2 s\n",
      "Wall time: 59.2 s\n"
     ]
    },
    {
     "data": {
      "text/plain": [
       "10179.0"
      ]
     },
     "execution_count": 19,
     "metadata": {},
     "output_type": "execute_result"
    }
   ],
   "source": [
    "%%time\n",
    "red.MaxFlow()"
   ]
  },
  {
   "cell_type": "markdown",
   "metadata": {},
   "source": [
    "## Solución con networkx"
   ]
  },
  {
   "cell_type": "markdown",
   "metadata": {},
   "source": [
    "Ahora con ayuda de la paquetería de networkx comprobamos que nuestros paquetes den el resultado correcto."
   ]
  },
  {
   "cell_type": "code",
   "execution_count": 20,
   "metadata": {},
   "outputs": [],
   "source": [
    "G = nx.DiGraph()"
   ]
  },
  {
   "cell_type": "code",
   "execution_count": 21,
   "metadata": {},
   "outputs": [],
   "source": [
    "for row in range(data.shape[0]):\n",
    "    G.add_edge('{}'.format(data[row,0]), '{}'.format(data[row,1]), capacity = data[row,2])"
   ]
  },
  {
   "cell_type": "code",
   "execution_count": 22,
   "metadata": {},
   "outputs": [],
   "source": [
    "flow_value, flow_dict = nx.maximum_flow(G, 'DEN', 'ATL')"
   ]
  },
  {
   "cell_type": "code",
   "execution_count": 23,
   "metadata": {},
   "outputs": [
    {
     "data": {
      "text/plain": [
       "9638"
      ]
     },
     "execution_count": 23,
     "metadata": {},
     "output_type": "execute_result"
    }
   ],
   "source": [
    "flow_value"
   ]
  },
  {
   "cell_type": "markdown",
   "metadata": {},
   "source": [
    "Notamos que el resultado devuelto por networks no se parece en nada al que arrojaron nuestros paquetes, de hecho ni siquiera tiene el mismo orden de magnitud.\n",
    "\n",
    "Después de investigar un poco, dimos con el problema. Cuando tienes varios arcos entre un par específico de nodos, al definir el arco utilizamos los mismo nombres de estos dos nodos una y otra vez. La diferencia entre `ffmaxflow` y `networkx` es que `ffmaxflow` guarda cada uno de estos vértices de manera independiente, sin importar que sus parámetros sean los mismos, mientras que `networkx` sobrescribe cada arco que llama a un par de nodos que ya se tenían guardados bajo otro arco.\n",
    "\n",
    "Entonces, si sumamos todas las capacidades (cantidad de pasajeros) por ruta y metemos esta nueva red resumida a `networkx` deberíamos de obtener el mismo resultado que con `ffmaxflow`."
   ]
  },
  {
   "cell_type": "markdown",
   "metadata": {},
   "source": [
    "### Sumando todos los pasajeros de la ruta"
   ]
  },
  {
   "cell_type": "code",
   "execution_count": 43,
   "metadata": {},
   "outputs": [
    {
     "data": {
      "text/html": [
       "<div>\n",
       "<style scoped>\n",
       "    .dataframe tbody tr th:only-of-type {\n",
       "        vertical-align: middle;\n",
       "    }\n",
       "\n",
       "    .dataframe tbody tr th {\n",
       "        vertical-align: top;\n",
       "    }\n",
       "\n",
       "    .dataframe thead th {\n",
       "        text-align: right;\n",
       "    }\n",
       "</style>\n",
       "<table border=\"1\" class=\"dataframe\">\n",
       "  <thead>\n",
       "    <tr style=\"text-align: right;\">\n",
       "      <th></th>\n",
       "      <th>Source</th>\n",
       "      <th>Destination</th>\n",
       "      <th>capacity</th>\n",
       "    </tr>\n",
       "  </thead>\n",
       "  <tbody>\n",
       "    <tr>\n",
       "      <th>0</th>\n",
       "      <td>ATL</td>\n",
       "      <td>BOS</td>\n",
       "      <td>2035</td>\n",
       "    </tr>\n",
       "    <tr>\n",
       "      <th>1</th>\n",
       "      <td>ATL</td>\n",
       "      <td>DEN</td>\n",
       "      <td>1440</td>\n",
       "    </tr>\n",
       "    <tr>\n",
       "      <th>2</th>\n",
       "      <td>ATL</td>\n",
       "      <td>IAD</td>\n",
       "      <td>884</td>\n",
       "    </tr>\n",
       "    <tr>\n",
       "      <th>3</th>\n",
       "      <td>ATL</td>\n",
       "      <td>JFK</td>\n",
       "      <td>1350</td>\n",
       "    </tr>\n",
       "    <tr>\n",
       "      <th>4</th>\n",
       "      <td>ATL</td>\n",
       "      <td>ORD</td>\n",
       "      <td>2235</td>\n",
       "    </tr>\n",
       "    <tr>\n",
       "      <th>...</th>\n",
       "      <td>...</td>\n",
       "      <td>...</td>\n",
       "      <td>...</td>\n",
       "    </tr>\n",
       "    <tr>\n",
       "      <th>67</th>\n",
       "      <td>SFO</td>\n",
       "      <td>IAD</td>\n",
       "      <td>760</td>\n",
       "    </tr>\n",
       "    <tr>\n",
       "      <th>68</th>\n",
       "      <td>SFO</td>\n",
       "      <td>JFK</td>\n",
       "      <td>102</td>\n",
       "    </tr>\n",
       "    <tr>\n",
       "      <th>69</th>\n",
       "      <td>SFO</td>\n",
       "      <td>ORD</td>\n",
       "      <td>1930</td>\n",
       "    </tr>\n",
       "    <tr>\n",
       "      <th>70</th>\n",
       "      <td>SFO</td>\n",
       "      <td>PHX</td>\n",
       "      <td>1254</td>\n",
       "    </tr>\n",
       "    <tr>\n",
       "      <th>71</th>\n",
       "      <td>SFO</td>\n",
       "      <td>SEA</td>\n",
       "      <td>2290</td>\n",
       "    </tr>\n",
       "  </tbody>\n",
       "</table>\n",
       "<p>72 rows × 3 columns</p>\n",
       "</div>"
      ],
      "text/plain": [
       "   Source Destination  capacity\n",
       "0     ATL         BOS      2035\n",
       "1     ATL         DEN      1440\n",
       "2     ATL         IAD       884\n",
       "3     ATL         JFK      1350\n",
       "4     ATL         ORD      2235\n",
       "..    ...         ...       ...\n",
       "67    SFO         IAD       760\n",
       "68    SFO         JFK       102\n",
       "69    SFO         ORD      1930\n",
       "70    SFO         PHX      1254\n",
       "71    SFO         SEA      2290\n",
       "\n",
       "[72 rows x 3 columns]"
      ]
     },
     "execution_count": 43,
     "metadata": {},
     "output_type": "execute_result"
    }
   ],
   "source": [
    "suma_df = df.groupby(['Source', 'Destination'])['capacity'].sum().reset_index()\n",
    "suma_df"
   ]
  },
  {
   "cell_type": "code",
   "execution_count": 44,
   "metadata": {},
   "outputs": [],
   "source": [
    "new_data = suma_df.values"
   ]
  },
  {
   "cell_type": "code",
   "execution_count": 45,
   "metadata": {},
   "outputs": [],
   "source": [
    "G = nx.DiGraph()"
   ]
  },
  {
   "cell_type": "code",
   "execution_count": 46,
   "metadata": {},
   "outputs": [],
   "source": [
    "for row in range(new_data.shape[0]):\n",
    "    G.add_edge('{}'.format(new_data[row,0]), '{}'.format(new_data[row,1]), capacity = new_data[row,2])"
   ]
  },
  {
   "cell_type": "code",
   "execution_count": 47,
   "metadata": {},
   "outputs": [],
   "source": [
    "flow_value, flow_dict = nx.maximum_flow(G, 'DEN', 'ATL')"
   ]
  },
  {
   "cell_type": "code",
   "execution_count": 48,
   "metadata": {},
   "outputs": [
    {
     "data": {
      "text/plain": [
       "10179"
      ]
     },
     "execution_count": 48,
     "metadata": {},
     "output_type": "execute_result"
    }
   ],
   "source": [
    "flow_value"
   ]
  },
  {
   "cell_type": "markdown",
   "metadata": {},
   "source": [
    "Y ahora sí, vemos que se obtuvo el mismo resultado que con `ffmaxflow` y `ffmaxc`, por lo que nuestra  implementación es correcta."
   ]
  },
  {
   "cell_type": "markdown",
   "metadata": {},
   "source": [
    "## Gráfica de las rutas"
   ]
  },
  {
   "cell_type": "code",
   "execution_count": 36,
   "metadata": {},
   "outputs": [
    {
     "data": {
      "image/png": "[encoded data removed]",
      "text/plain": [
       "<Figure size 1080x720 with 1 Axes>"
      ]
     },
     "metadata": {},
     "output_type": "display_data"
    }
   ],
   "source": [
    "plt.figure(figsize = (15,10))\n",
    "nx.draw_networkx(G)"
   ]
  },
  {
   "cell_type": "markdown",
   "metadata": {},
   "source": [
    "## Función\n",
    "También podemos crear una función para que sea más fácil y rápido calcular el máximo flujo de pasajeros de un aeropuerto a otro."
   ]
  },
  {
   "cell_type": "code",
   "execution_count": 37,
   "metadata": {},
   "outputs": [],
   "source": [
    "def calculate_flow(source_airport, destiny_airport, data):\n",
    "    \n",
    "    red = ff.create_flow_network()\n",
    "    unique_nodes = np.unique(np.hstack((data[:,0],data[:,1])))\n",
    "    \n",
    "    for node in unique_nodes:\n",
    "    \n",
    "        if node == source_airport:\n",
    "            red.create_vertex('{}'.format(node), True, False)\n",
    "    \n",
    "        elif node == destiny_airport:\n",
    "            red.create_vertex('{}'.format(node), False, True)\n",
    "    \n",
    "        else:\n",
    "            red.create_vertex('{}'.format(node), False, False)\n",
    "        \n",
    "    for row in range(data.shape[0]):\n",
    "        red.create_edge('{}'.format(data[row,0]), '{}'.format(data[row,1]), data[row,4])\n",
    "    \n",
    "    return red.MaxFlow()"
   ]
  },
  {
   "cell_type": "code",
   "execution_count": 38,
   "metadata": {},
   "outputs": [],
   "source": [
    "def calculate_flowc(source_airport, destiny_airport, data):\n",
    "    \n",
    "    red = ffc.create_flow_network()\n",
    "    unique_nodes = np.unique(np.hstack((data[:,0],data[:,1])))\n",
    "    \n",
    "    for node in unique_nodes:\n",
    "    \n",
    "        if node == source_airport:\n",
    "            red.create_vertex('{}'.format(node), True, False)\n",
    "    \n",
    "        elif node == destiny_airport:\n",
    "            red.create_vertex('{}'.format(node), False, True)\n",
    "    \n",
    "        else:\n",
    "            red.create_vertex('{}'.format(node), False, False)\n",
    "        \n",
    "    for row in range(data.shape[0]):\n",
    "        red.create_edge('{}'.format(data[row,0]), '{}'.format(data[row,1]), data[row,4])\n",
    "    \n",
    "    return red.MaxFlow()"
   ]
  },
  {
   "cell_type": "markdown",
   "metadata": {},
   "source": [
    "## Ejemplos"
   ]
  },
  {
   "cell_type": "markdown",
   "metadata": {},
   "source": [
    "+ De Denver a Atlanta"
   ]
  },
  {
   "cell_type": "code",
   "execution_count": 49,
   "metadata": {},
   "outputs": [
    {
     "name": "stdout",
     "output_type": "stream",
     "text": [
      "CPU times: user 58.9 s, sys: 6.18 ms, total: 58.9 s\n",
      "Wall time: 58.9 s\n"
     ]
    },
    {
     "data": {
      "text/plain": [
       "10179"
      ]
     },
     "execution_count": 49,
     "metadata": {},
     "output_type": "execute_result"
    }
   ],
   "source": [
    "%%time\n",
    "calculate_flow('DEN', 'ATL', data)"
   ]
  },
  {
   "cell_type": "code",
   "execution_count": 50,
   "metadata": {},
   "outputs": [
    {
     "name": "stdout",
     "output_type": "stream",
     "text": [
      "CPU times: user 57.4 s, sys: 132 ms, total: 57.5 s\n",
      "Wall time: 57.3 s\n"
     ]
    },
    {
     "data": {
      "text/plain": [
       "10179.0"
      ]
     },
     "execution_count": 50,
     "metadata": {},
     "output_type": "execute_result"
    }
   ],
   "source": [
    "%%time\n",
    "calculate_flowc('DEN', 'ATL', data)"
   ]
  },
  {
   "cell_type": "markdown",
   "metadata": {},
   "source": [
    "+ De Boston a Seattle"
   ]
  },
  {
   "cell_type": "code",
   "execution_count": 51,
   "metadata": {},
   "outputs": [
    {
     "name": "stdout",
     "output_type": "stream",
     "text": [
      "CPU times: user 1min 24s, sys: 14.3 ms, total: 1min 24s\n",
      "Wall time: 1min 28s\n"
     ]
    },
    {
     "data": {
      "text/plain": [
       "7374"
      ]
     },
     "execution_count": 51,
     "metadata": {},
     "output_type": "execute_result"
    }
   ],
   "source": [
    "%%time\n",
    "calculate_flow('BOS', 'SEA', data)"
   ]
  },
  {
   "cell_type": "code",
   "execution_count": 52,
   "metadata": {},
   "outputs": [
    {
     "name": "stdout",
     "output_type": "stream",
     "text": [
      "CPU times: user 1min 23s, sys: 263 ms, total: 1min 23s\n",
      "Wall time: 1min 34s\n"
     ]
    },
    {
     "data": {
      "text/plain": [
       "7374.0"
      ]
     },
     "execution_count": 52,
     "metadata": {},
     "output_type": "execute_result"
    }
   ],
   "source": [
    "%%time\n",
    "calculate_flowc('BOS', 'SEA', data)"
   ]
  },
  {
   "cell_type": "markdown",
   "metadata": {},
   "source": [
    "+ De Washington a Phoenix"
   ]
  },
  {
   "cell_type": "code",
   "execution_count": 53,
   "metadata": {},
   "outputs": [
    {
     "name": "stdout",
     "output_type": "stream",
     "text": [
      "CPU times: user 6min 15s, sys: 69.9 ms, total: 6min 15s\n",
      "Wall time: 6min 50s\n"
     ]
    },
    {
     "data": {
      "text/plain": [
       "5492"
      ]
     },
     "execution_count": 53,
     "metadata": {},
     "output_type": "execute_result"
    }
   ],
   "source": [
    "%%time\n",
    "calculate_flow('IAD', 'PHX', data)"
   ]
  },
  {
   "cell_type": "code",
   "execution_count": 54,
   "metadata": {},
   "outputs": [
    {
     "name": "stdout",
     "output_type": "stream",
     "text": [
      "CPU times: user 6min 16s, sys: 1.13 s, total: 6min 18s\n",
      "Wall time: 7min 29s\n"
     ]
    },
    {
     "data": {
      "text/plain": [
       "5492.0"
      ]
     },
     "execution_count": 54,
     "metadata": {},
     "output_type": "execute_result"
    }
   ],
   "source": [
    "%%time\n",
    "calculate_flowc('IAD', 'PHX', data)"
   ]
  },
  {
   "cell_type": "markdown",
   "metadata": {},
   "source": [
    "+ De San Francisco a Atlanta"
   ]
  },
  {
   "cell_type": "code",
   "execution_count": 55,
   "metadata": {},
   "outputs": [
    {
     "name": "stdout",
     "output_type": "stream",
     "text": [
      "CPU times: user 2min 13s, sys: 62.6 ms, total: 2min 13s\n",
      "Wall time: 2min 47s\n"
     ]
    },
    {
     "data": {
      "text/plain": [
       "10352"
      ]
     },
     "execution_count": 55,
     "metadata": {},
     "output_type": "execute_result"
    }
   ],
   "source": [
    "%%time\n",
    "calculate_flow('SFO', 'ATL', data)"
   ]
  },
  {
   "cell_type": "code",
   "execution_count": 56,
   "metadata": {},
   "outputs": [
    {
     "name": "stdout",
     "output_type": "stream",
     "text": [
      "CPU times: user 2min 7s, sys: 344 ms, total: 2min 7s\n",
      "Wall time: 2min 26s\n"
     ]
    },
    {
     "data": {
      "text/plain": [
       "10352.0"
      ]
     },
     "execution_count": 56,
     "metadata": {},
     "output_type": "execute_result"
    }
   ],
   "source": [
    "%%time\n",
    "calculate_flowc('SFO', 'ATL', data)"
   ]
  },
  {
   "cell_type": "markdown",
   "metadata": {},
   "source": [
    "### Tabla de Tiempos para viaje de Denver a Atlanta con timeit\n",
    "En los ejemplos anteriores medimos el tiempo de ejecución tanto del paquete original como de la reimplementación, sin embargo una sóla medición tiende a ser ruidosa ya que a veces se toman en cuenta procesos que corren en el fondo. Una mejor medición sería hacer el promedio de varias mediciones con ayuda de `timeit`.\n",
    "\n",
    "**ffmaxflow**"
   ]
  },
  {
   "cell_type": "code",
   "execution_count": 5,
   "metadata": {},
   "outputs": [
    {
     "name": "stdout",
     "output_type": "stream",
     "text": [
      "641.4799938199976\n"
     ]
    }
   ],
   "source": [
    "setup_code = \"\"\"import ffmaxflow as ff\n",
    "import numpy as np\n",
    "import pandas as pd\n",
    "                \n",
    "url = 'https://raw.githubusercontent.com/sid-7/Airline_Maximum_Flow/master/flights.csv'\n",
    "df = pd.read_csv(url,index_col=0,parse_dates=[0])\n",
    "data = df.values\n",
    "    \n",
    "\"\"\"\n",
    "\n",
    "statement = \"\"\"\n",
    "red = ff.create_flow_network()\n",
    "unique_nodes = np.unique(np.hstack((data[:,0],data[:,1])))\n",
    "           \n",
    "for node in unique_nodes: \n",
    "    if node == 'DEN':\n",
    "        red.create_vertex('{}'.format(node), True, False)\n",
    "    \n",
    "    elif node == 'ATL':\n",
    "        red.create_vertex('{}'.format(node), False, True)\n",
    "    \n",
    "    else:\n",
    "        red.create_vertex('{}'.format(node), False, False)\n",
    "                    \n",
    "for row in range(data.shape[0]):\n",
    "    red.create_edge('{}'.format(data[row,0]), '{}'.format(data[row,1]), data[row,4])\n",
    "            \n",
    "red.MaxFlow()  \n",
    "            \n",
    "\"\"\"\n",
    "\n",
    "print (timeit(setup = setup_code, stmt = statement, number = 10)) "
   ]
  },
  {
   "cell_type": "code",
   "execution_count": 10,
   "metadata": {},
   "outputs": [
    {
     "name": "stdout",
     "output_type": "stream",
     "text": [
      "Tiempo promedio de una ejecución: 64.14799000000001 segundos\n"
     ]
    }
   ],
   "source": [
    "print(\"Tiempo promedio de una ejecución: {} segundos\".format(641.4799/10))"
   ]
  },
  {
   "cell_type": "markdown",
   "metadata": {},
   "source": [
    "**ffmaxc**"
   ]
  },
  {
   "cell_type": "code",
   "execution_count": 4,
   "metadata": {},
   "outputs": [
    {
     "name": "stdout",
     "output_type": "stream",
     "text": [
      "566.4257510969983\n"
     ]
    }
   ],
   "source": [
    "setup_code = \"\"\"import ffmaxc as ffc\n",
    "import numpy as np\n",
    "import pandas as pd\n",
    "                \n",
    "url = 'https://raw.githubusercontent.com/sid-7/Airline_Maximum_Flow/master/flights.csv'\n",
    "df = pd.read_csv(url,index_col=0,parse_dates=[0])\n",
    "data = df.values\n",
    "    \n",
    "\"\"\"\n",
    "\n",
    "statement = \"\"\"\n",
    "red = ffc.create_flow_network()\n",
    "unique_nodes = np.unique(np.hstack((data[:,0],data[:,1])))\n",
    "           \n",
    "for node in unique_nodes: \n",
    "    if node == 'DEN':\n",
    "        red.create_vertex('{}'.format(node), True, False)\n",
    "    \n",
    "    elif node == 'ATL':\n",
    "        red.create_vertex('{}'.format(node), False, True)\n",
    "    \n",
    "    else:\n",
    "        red.create_vertex('{}'.format(node), False, False)\n",
    "                    \n",
    "for row in range(data.shape[0]):\n",
    "    red.create_edge('{}'.format(data[row,0]), '{}'.format(data[row,1]), data[row,4])\n",
    "            \n",
    "red.MaxFlow()  \n",
    "            \n",
    "\"\"\"\n",
    "\n",
    "print (timeit(setup = setup_code, stmt = statement, number = 10)) "
   ]
  },
  {
   "cell_type": "code",
   "execution_count": 12,
   "metadata": {},
   "outputs": [
    {
     "name": "stdout",
     "output_type": "stream",
     "text": [
      "Tiempo promedio de una ejecución: 56.64257 segundos\n"
     ]
    }
   ],
   "source": [
    "print(\"Tiempo promedio de una ejecución: {} segundos\".format(566.4257/10))"
   ]
  },
  {
   "cell_type": "markdown",
   "metadata": {},
   "source": [
    "**networkx**"
   ]
  },
  {
   "cell_type": "code",
   "execution_count": 8,
   "metadata": {},
   "outputs": [
    {
     "name": "stdout",
     "output_type": "stream",
     "text": [
      "0.020034563000081107\n"
     ]
    }
   ],
   "source": [
    "setup_code = \"\"\"import networkx as nx\n",
    "import numpy as np\n",
    "import pandas as pd\n",
    "                \n",
    "url = 'https://raw.githubusercontent.com/sid-7/Airline_Maximum_Flow/master/flights.csv'\n",
    "df = pd.read_csv(url,index_col=0,parse_dates=[0])\n",
    "sum = df.groupby(['Source', 'Destination'])['capacity'].sum().reset_index()\n",
    "new_data = sum.values\n",
    "    \n",
    "\"\"\"\n",
    "\n",
    "statement = \"\"\"\n",
    "G = nx.DiGraph()\n",
    "\n",
    "for row in range(new_data.shape[0]):\n",
    "    G.add_edge('{}'.format(new_data[row,0]), '{}'.format(new_data[row,1]), capacity = new_data[row,2])\n",
    "\n",
    "flow_value, flow_dict = nx.maximum_flow(G, 'DEN', 'ATL')\n",
    "            \n",
    "\"\"\"\n",
    "\n",
    "print (timeit(setup = setup_code, stmt = statement, number = 10)) "
   ]
  },
  {
   "cell_type": "code",
   "execution_count": 13,
   "metadata": {},
   "outputs": [
    {
     "name": "stdout",
     "output_type": "stream",
     "text": [
      "Tiempo promedio de una ejecución: 0.002 segundos\n"
     ]
    }
   ],
   "source": [
    "print(\"Tiempo promedio de una ejecución: {} segundos\".format(0.0200/10))"
   ]
  },
  {
   "cell_type": "markdown",
   "metadata": {},
   "source": [
    "La tabla de tiempos resulta entonces:\n",
    "\n",
    "| Paquete | Resultado | Tiempo de ejecución promedio |\n",
    "|--------|-----------|---------------------|\n",
    "| ffmaxflow | 10179 | 64 s |\n",
    "| ffmaxc | 10179.0 | 56 s |\n",
    "| networkx | 10179 | 0.002 |"
   ]
  },
  {
   "cell_type": "markdown",
   "metadata": {},
   "source": [
    "## Referencias\n",
    "+ [Airline Scheduling with Max Flow algorithm](http://ilab-australia.org/jms/wp-content/uploads/2018/09/28.-P.ICT_.012.pdf)\n",
    "+ [Maximum Flow Problem](https://en.wikipedia.org/wiki/Maximum_flow_problem)\n",
    "+ [Airport Capacity Profiles](https://www.faa.gov/airports/planning_capacity/profiles/)"
   ]
  }
 ],
 "metadata": {
  "kernelspec": {
   "display_name": "Python 3",
   "language": "python",
   "name": "python3"
  },
  "language_info": {
   "codemirror_mode": {
    "name": "ipython",
    "version": 3
   },
   "file_extension": ".py",
   "mimetype": "text/x-python",
   "name": "python",
   "nbconvert_exporter": "python",
   "pygments_lexer": "ipython3",
   "version": "3.8.5"
  }
 },
 "nbformat": 4,
 "nbformat_minor": 4
}
