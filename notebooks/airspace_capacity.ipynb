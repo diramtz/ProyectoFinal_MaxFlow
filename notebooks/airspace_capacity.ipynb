{
 "cells": [
  {
   "cell_type": "markdown",
   "metadata": {},
   "source": [
    "Mayo 2021\n",
    "# Airspace capacity\n",
    "Versión simplificada del problema de airline scheduling.\n",
    "\n",
    "El problema de airline scheduling, como su nombre lo indica depende de los horarios de despegue y aterrizaje de los aviones en cada ruta. En este caso, para reducir la complejidad no tomaremos en cuenta esto, si no simplemente la cantidad máxima de personas que pueden viajar de un areopuerto a otro."
   ]
  },
  {
   "cell_type": "code",
   "execution_count": 1,
   "metadata": {},
   "outputs": [],
   "source": [
    "import requests\n",
    "import pandas as pd\n",
    "import numpy as np\n",
    "import networkx as nx\n",
    "import matplotlib.pyplot as plt"
   ]
  },
  {
   "cell_type": "code",
   "execution_count": 15,
   "metadata": {},
   "outputs": [],
   "source": [
    "url = 'https://raw.githubusercontent.com/sid-7/Airline_Maximum_Flow/master/flights.csv'\n",
    "df = pd.read_csv(url,index_col=0,parse_dates=[0])"
   ]
  },
  {
   "cell_type": "code",
   "execution_count": 16,
   "metadata": {},
   "outputs": [
    {
     "data": {
      "text/html": [
       "<div>\n",
       "<style scoped>\n",
       "    .dataframe tbody tr th:only-of-type {\n",
       "        vertical-align: middle;\n",
       "    }\n",
       "\n",
       "    .dataframe tbody tr th {\n",
       "        vertical-align: top;\n",
       "    }\n",
       "\n",
       "    .dataframe thead th {\n",
       "        text-align: right;\n",
       "    }\n",
       "</style>\n",
       "<table border=\"1\" class=\"dataframe\">\n",
       "  <thead>\n",
       "    <tr style=\"text-align: right;\">\n",
       "      <th></th>\n",
       "      <th>Source</th>\n",
       "      <th>Destination</th>\n",
       "      <th>Depature</th>\n",
       "      <th>Arrival</th>\n",
       "      <th>capacity</th>\n",
       "    </tr>\n",
       "  </thead>\n",
       "  <tbody>\n",
       "    <tr>\n",
       "      <th>0</th>\n",
       "      <td>ORD</td>\n",
       "      <td>ATL</td>\n",
       "      <td>530</td>\n",
       "      <td>829</td>\n",
       "      <td>185</td>\n",
       "    </tr>\n",
       "    <tr>\n",
       "      <th>1</th>\n",
       "      <td>BOS</td>\n",
       "      <td>ATL</td>\n",
       "      <td>545</td>\n",
       "      <td>854</td>\n",
       "      <td>185</td>\n",
       "    </tr>\n",
       "    <tr>\n",
       "      <th>2</th>\n",
       "      <td>LAX</td>\n",
       "      <td>SEA</td>\n",
       "      <td>600</td>\n",
       "      <td>900</td>\n",
       "      <td>165</td>\n",
       "    </tr>\n",
       "    <tr>\n",
       "      <th>3</th>\n",
       "      <td>PHX</td>\n",
       "      <td>ATL</td>\n",
       "      <td>600</td>\n",
       "      <td>1127</td>\n",
       "      <td>185</td>\n",
       "    </tr>\n",
       "    <tr>\n",
       "      <th>4</th>\n",
       "      <td>SFO</td>\n",
       "      <td>ATL</td>\n",
       "      <td>600</td>\n",
       "      <td>1332</td>\n",
       "      <td>230</td>\n",
       "    </tr>\n",
       "    <tr>\n",
       "      <th>...</th>\n",
       "      <td>...</td>\n",
       "      <td>...</td>\n",
       "      <td>...</td>\n",
       "      <td>...</td>\n",
       "      <td>...</td>\n",
       "    </tr>\n",
       "    <tr>\n",
       "      <th>146</th>\n",
       "      <td>BOS</td>\n",
       "      <td>ORD</td>\n",
       "      <td>1330</td>\n",
       "      <td>1533</td>\n",
       "      <td>160</td>\n",
       "    </tr>\n",
       "    <tr>\n",
       "      <th>147</th>\n",
       "      <td>BOS</td>\n",
       "      <td>ORD</td>\n",
       "      <td>600</td>\n",
       "      <td>805</td>\n",
       "      <td>160</td>\n",
       "    </tr>\n",
       "    <tr>\n",
       "      <th>148</th>\n",
       "      <td>BOS</td>\n",
       "      <td>JFK</td>\n",
       "      <td>601</td>\n",
       "      <td>726</td>\n",
       "      <td>102</td>\n",
       "    </tr>\n",
       "    <tr>\n",
       "      <th>149</th>\n",
       "      <td>BOS</td>\n",
       "      <td>JFK</td>\n",
       "      <td>1217</td>\n",
       "      <td>1339</td>\n",
       "      <td>128</td>\n",
       "    </tr>\n",
       "    <tr>\n",
       "      <th>150</th>\n",
       "      <td>BOS</td>\n",
       "      <td>JFK</td>\n",
       "      <td>933</td>\n",
       "      <td>1059</td>\n",
       "      <td>160</td>\n",
       "    </tr>\n",
       "  </tbody>\n",
       "</table>\n",
       "<p>565 rows × 5 columns</p>\n",
       "</div>"
      ],
      "text/plain": [
       "    Source Destination  Depature  Arrival  capacity\n",
       "0      ORD         ATL       530      829       185\n",
       "1      BOS         ATL       545      854       185\n",
       "2      LAX         SEA       600      900       165\n",
       "3      PHX         ATL       600     1127       185\n",
       "4      SFO         ATL       600     1332       230\n",
       "..     ...         ...       ...      ...       ...\n",
       "146    BOS         ORD      1330     1533       160\n",
       "147    BOS         ORD       600      805       160\n",
       "148    BOS         JFK       601      726       102\n",
       "149    BOS         JFK      1217     1339       128\n",
       "150    BOS         JFK       933     1059       160\n",
       "\n",
       "[565 rows x 5 columns]"
      ]
     },
     "execution_count": 16,
     "metadata": {},
     "output_type": "execute_result"
    }
   ],
   "source": [
    "df"
   ]
  },
  {
   "cell_type": "code",
   "execution_count": 17,
   "metadata": {},
   "outputs": [],
   "source": [
    "data = df.values"
   ]
  },
  {
   "cell_type": "markdown",
   "metadata": {},
   "source": [
    "## Solución con ffmaxflow\n",
    "Supongamos que queremos saber el el máximo número de personas que pueden viajar de Denver a Atlanta."
   ]
  },
  {
   "cell_type": "code",
   "execution_count": 5,
   "metadata": {},
   "outputs": [],
   "source": [
    "import ffmaxflow as ff"
   ]
  },
  {
   "cell_type": "code",
   "execution_count": 6,
   "metadata": {},
   "outputs": [],
   "source": [
    "red = ff.create_flow_network()"
   ]
  },
  {
   "cell_type": "code",
   "execution_count": 7,
   "metadata": {},
   "outputs": [
    {
     "data": {
      "text/plain": [
       "array(['ATL', 'BOS', 'DEN', 'IAD', 'JFK', 'LAX', 'ORD', 'PHX', 'SEA',\n",
       "       'SFO'], dtype=object)"
      ]
     },
     "execution_count": 7,
     "metadata": {},
     "output_type": "execute_result"
    }
   ],
   "source": [
    "unique_nodes = np.unique(np.hstack((data[:,0],data[:,1])))\n",
    "unique_nodes"
   ]
  },
  {
   "cell_type": "code",
   "execution_count": 8,
   "metadata": {},
   "outputs": [],
   "source": [
    "for node in unique_nodes:\n",
    "    \n",
    "    if node == 'DEN':\n",
    "        red.create_vertex('{}'.format(node), True, False)\n",
    "    \n",
    "    elif node == 'ATL':\n",
    "        red.create_vertex('{}'.format(node), False, True)\n",
    "    \n",
    "    else:\n",
    "        red.create_vertex('{}'.format(node), False, False)"
   ]
  },
  {
   "cell_type": "code",
   "execution_count": 9,
   "metadata": {},
   "outputs": [
    {
     "data": {
      "text/plain": [
       "10"
      ]
     },
     "execution_count": 9,
     "metadata": {},
     "output_type": "execute_result"
    }
   ],
   "source": [
    "len(red.vertices)"
   ]
  },
  {
   "cell_type": "code",
   "execution_count": 10,
   "metadata": {},
   "outputs": [],
   "source": [
    "for row in range(data.shape[0]):\n",
    "    red.create_edge('{}'.format(data[row,0]), '{}'.format(data[row,1]), data[row,4])"
   ]
  },
  {
   "cell_type": "code",
   "execution_count": 32,
   "metadata": {},
   "outputs": [
    {
     "name": "stdout",
     "output_type": "stream",
     "text": [
      "CPU times: user 1min 1s, sys: 3.64 ms, total: 1min 1s\n",
      "Wall time: 1min 1s\n"
     ]
    },
    {
     "data": {
      "text/plain": [
       "10179"
      ]
     },
     "execution_count": 32,
     "metadata": {},
     "output_type": "execute_result"
    }
   ],
   "source": [
    "%%time\n",
    "red.MaxFlow()"
   ]
  },
  {
   "cell_type": "markdown",
   "metadata": {},
   "source": [
    "## Solución con ffmaxc"
   ]
  },
  {
   "cell_type": "code",
   "execution_count": 87,
   "metadata": {},
   "outputs": [
    {
     "name": "stdout",
     "output_type": "stream",
     "text": [
      "Processing /home/diramtz/Documents/Optimizacion/ProyectoFinal_MaxFlow/ffmaxc\n",
      "Building wheels for collected packages: UNKNOWN\n",
      "  Building wheel for UNKNOWN (setup.py) ... \u001b[?25ldone\n",
      "\u001b[?25h  Created wheel for UNKNOWN: filename=UNKNOWN-0.0.0-cp38-cp38-linux_x86_64.whl size=250160 sha256=aa61e104d6e87028b616f26ae7aca5058442fceb773a58883c858217bbd07f6b\n",
      "  Stored in directory: /tmp/pip-ephem-wheel-cache-h2uzi3q1/wheels/64/ec/00/07fbc8f81d14bd6e084a678ffbbd60843bf4aaa867d0489e69\n",
      "Successfully built UNKNOWN\n",
      "Installing collected packages: UNKNOWN\n",
      "  Attempting uninstall: UNKNOWN\n",
      "    Found existing installation: UNKNOWN 0.0.0\n",
      "    Uninstalling UNKNOWN-0.0.0:\n",
      "      Successfully uninstalled UNKNOWN-0.0.0\n",
      "Successfully installed UNKNOWN-0.0.0\n"
     ]
    }
   ],
   "source": [
    "!pip install ../ffmaxc/"
   ]
  },
  {
   "cell_type": "code",
   "execution_count": 12,
   "metadata": {},
   "outputs": [],
   "source": [
    "import ffmaxc as ffc"
   ]
  },
  {
   "cell_type": "code",
   "execution_count": 21,
   "metadata": {},
   "outputs": [],
   "source": [
    "red = ffc.create_flow_network()"
   ]
  },
  {
   "cell_type": "code",
   "execution_count": 22,
   "metadata": {},
   "outputs": [
    {
     "data": {
      "text/plain": [
       "array(['ATL', 'BOS', 'DEN', 'IAD', 'JFK', 'LAX', 'ORD', 'PHX', 'SEA',\n",
       "       'SFO'], dtype=object)"
      ]
     },
     "execution_count": 22,
     "metadata": {},
     "output_type": "execute_result"
    }
   ],
   "source": [
    "unique_nodes = np.unique(np.hstack((data[:,0],data[:,1])))\n",
    "unique_nodes"
   ]
  },
  {
   "cell_type": "code",
   "execution_count": 23,
   "metadata": {},
   "outputs": [],
   "source": [
    "for node in unique_nodes:\n",
    "    \n",
    "    if node == 'DEN':\n",
    "        red.create_vertex('{}'.format(node), True, False)\n",
    "    \n",
    "    elif node == 'ATL':\n",
    "        red.create_vertex('{}'.format(node), False, True)\n",
    "    \n",
    "    else:\n",
    "        red.create_vertex('{}'.format(node), False, False)"
   ]
  },
  {
   "cell_type": "code",
   "execution_count": 24,
   "metadata": {},
   "outputs": [
    {
     "data": {
      "text/plain": [
       "10"
      ]
     },
     "execution_count": 24,
     "metadata": {},
     "output_type": "execute_result"
    }
   ],
   "source": [
    "len(red.vertices)"
   ]
  },
  {
   "cell_type": "code",
   "execution_count": 25,
   "metadata": {},
   "outputs": [],
   "source": [
    "for row in range(data.shape[0]):\n",
    "    red.create_edge('{}'.format(data[row,0]), '{}'.format(data[row,1]), data[row,4])"
   ]
  },
  {
   "cell_type": "code",
   "execution_count": 26,
   "metadata": {},
   "outputs": [
    {
     "name": "stdout",
     "output_type": "stream",
     "text": [
      "CPU times: user 56.3 s, sys: 148 ms, total: 56.5 s\n",
      "Wall time: 56.2 s\n"
     ]
    },
    {
     "data": {
      "text/plain": [
       "10179.0"
      ]
     },
     "execution_count": 26,
     "metadata": {},
     "output_type": "execute_result"
    }
   ],
   "source": [
    "%%time\n",
    "red.MaxFlow()"
   ]
  },
  {
   "cell_type": "markdown",
   "metadata": {},
   "source": [
    "## Solución con networkx"
   ]
  },
  {
   "cell_type": "markdown",
   "metadata": {},
   "source": [
    "Ahora con ayuda de la paquetería de networkx comprobamos que nuestros paquetes den el resultado correcto."
   ]
  },
  {
   "cell_type": "code",
   "execution_count": 18,
   "metadata": {},
   "outputs": [],
   "source": [
    "G = nx.DiGraph()"
   ]
  },
  {
   "cell_type": "code",
   "execution_count": 19,
   "metadata": {},
   "outputs": [],
   "source": [
    "for row in range(data.shape[0]):\n",
    "    G.add_edge('{}'.format(data[row,0]), '{}'.format(data[row,1]), capacity = data[row,2])"
   ]
  },
  {
   "cell_type": "code",
   "execution_count": 20,
   "metadata": {},
   "outputs": [],
   "source": [
    "flow_value, flow_dict = nx.maximum_flow(G, 'DEN', 'ATL')"
   ]
  },
  {
   "cell_type": "code",
   "execution_count": 21,
   "metadata": {},
   "outputs": [
    {
     "data": {
      "text/plain": [
       "9638"
      ]
     },
     "execution_count": 21,
     "metadata": {},
     "output_type": "execute_result"
    }
   ],
   "source": [
    "flow_value"
   ]
  },
  {
   "cell_type": "markdown",
   "metadata": {},
   "source": [
    "Notamos que el resultado devuelto por networks no se parece en nada al que arrojaron nuestros paquetes, de hecho ni siquiera tiene el mismo orden de magnitud.\n",
    "\n",
    "Después de investigar un poco, dimos con el problema. Cuando tienes varios arcos entre un par específico de nodos, al definir el arco utilizamos los mismo nombres de estos dos nodos una y otra vez. La diferencia entre `ffmaxflow` y `networkx` es que `ffmaxflow` guarda cada uno de estos vértices de manera independiente, sin importar que sus parámetros sean los mismos, mientras que `networkx` sobrescribe cada arco que llama a un par de nodos que ya se tenían guardados bajo otro arco.\n",
    "\n",
    "Entonces, si sumamos todas las capacidades (cantidad de pasajeros) por ruta y metemos esta nueva red resumida a `networkx` deberíamos de obtener el mismo resultado que con `ffmaxflow`."
   ]
  },
  {
   "cell_type": "markdown",
   "metadata": {},
   "source": [
    "### Sumando todos los pasajeros de la ruta"
   ]
  },
  {
   "cell_type": "code",
   "execution_count": 22,
   "metadata": {},
   "outputs": [
    {
     "data": {
      "text/html": [
       "<div>\n",
       "<style scoped>\n",
       "    .dataframe tbody tr th:only-of-type {\n",
       "        vertical-align: middle;\n",
       "    }\n",
       "\n",
       "    .dataframe tbody tr th {\n",
       "        vertical-align: top;\n",
       "    }\n",
       "\n",
       "    .dataframe thead th {\n",
       "        text-align: right;\n",
       "    }\n",
       "</style>\n",
       "<table border=\"1\" class=\"dataframe\">\n",
       "  <thead>\n",
       "    <tr style=\"text-align: right;\">\n",
       "      <th></th>\n",
       "      <th>Source</th>\n",
       "      <th>Destination</th>\n",
       "      <th>capacity</th>\n",
       "    </tr>\n",
       "  </thead>\n",
       "  <tbody>\n",
       "    <tr>\n",
       "      <th>0</th>\n",
       "      <td>ATL</td>\n",
       "      <td>BOS</td>\n",
       "      <td>2035</td>\n",
       "    </tr>\n",
       "    <tr>\n",
       "      <th>1</th>\n",
       "      <td>ATL</td>\n",
       "      <td>DEN</td>\n",
       "      <td>1440</td>\n",
       "    </tr>\n",
       "    <tr>\n",
       "      <th>2</th>\n",
       "      <td>ATL</td>\n",
       "      <td>IAD</td>\n",
       "      <td>884</td>\n",
       "    </tr>\n",
       "    <tr>\n",
       "      <th>3</th>\n",
       "      <td>ATL</td>\n",
       "      <td>JFK</td>\n",
       "      <td>1350</td>\n",
       "    </tr>\n",
       "    <tr>\n",
       "      <th>4</th>\n",
       "      <td>ATL</td>\n",
       "      <td>ORD</td>\n",
       "      <td>2235</td>\n",
       "    </tr>\n",
       "    <tr>\n",
       "      <th>...</th>\n",
       "      <td>...</td>\n",
       "      <td>...</td>\n",
       "      <td>...</td>\n",
       "    </tr>\n",
       "    <tr>\n",
       "      <th>67</th>\n",
       "      <td>SFO</td>\n",
       "      <td>IAD</td>\n",
       "      <td>760</td>\n",
       "    </tr>\n",
       "    <tr>\n",
       "      <th>68</th>\n",
       "      <td>SFO</td>\n",
       "      <td>JFK</td>\n",
       "      <td>102</td>\n",
       "    </tr>\n",
       "    <tr>\n",
       "      <th>69</th>\n",
       "      <td>SFO</td>\n",
       "      <td>ORD</td>\n",
       "      <td>1930</td>\n",
       "    </tr>\n",
       "    <tr>\n",
       "      <th>70</th>\n",
       "      <td>SFO</td>\n",
       "      <td>PHX</td>\n",
       "      <td>1254</td>\n",
       "    </tr>\n",
       "    <tr>\n",
       "      <th>71</th>\n",
       "      <td>SFO</td>\n",
       "      <td>SEA</td>\n",
       "      <td>2290</td>\n",
       "    </tr>\n",
       "  </tbody>\n",
       "</table>\n",
       "<p>72 rows × 3 columns</p>\n",
       "</div>"
      ],
      "text/plain": [
       "   Source Destination  capacity\n",
       "0     ATL         BOS      2035\n",
       "1     ATL         DEN      1440\n",
       "2     ATL         IAD       884\n",
       "3     ATL         JFK      1350\n",
       "4     ATL         ORD      2235\n",
       "..    ...         ...       ...\n",
       "67    SFO         IAD       760\n",
       "68    SFO         JFK       102\n",
       "69    SFO         ORD      1930\n",
       "70    SFO         PHX      1254\n",
       "71    SFO         SEA      2290\n",
       "\n",
       "[72 rows x 3 columns]"
      ]
     },
     "execution_count": 22,
     "metadata": {},
     "output_type": "execute_result"
    }
   ],
   "source": [
    "suma_df = df.groupby(['Source', 'Destination'])['capacity'].sum().reset_index()\n",
    "suma_df"
   ]
  },
  {
   "cell_type": "code",
   "execution_count": 23,
   "metadata": {},
   "outputs": [],
   "source": [
    "data = suma_df.values"
   ]
  },
  {
   "cell_type": "code",
   "execution_count": 24,
   "metadata": {},
   "outputs": [],
   "source": [
    "G = nx.DiGraph()"
   ]
  },
  {
   "cell_type": "code",
   "execution_count": 25,
   "metadata": {},
   "outputs": [],
   "source": [
    "for row in range(data.shape[0]):\n",
    "    G.add_edge('{}'.format(data[row,0]), '{}'.format(data[row,1]), capacity = data[row,2])"
   ]
  },
  {
   "cell_type": "code",
   "execution_count": 26,
   "metadata": {},
   "outputs": [],
   "source": [
    "flow_value, flow_dict = nx.maximum_flow(G, 'DEN', 'ATL')"
   ]
  },
  {
   "cell_type": "code",
   "execution_count": 27,
   "metadata": {},
   "outputs": [
    {
     "data": {
      "text/plain": [
       "10179"
      ]
     },
     "execution_count": 27,
     "metadata": {},
     "output_type": "execute_result"
    }
   ],
   "source": [
    "flow_value"
   ]
  },
  {
   "cell_type": "markdown",
   "metadata": {},
   "source": [
    "Y ahora sí, vemos que se obtuvo el mismo resultado que con `ffmaxflow` y `ffmaxc`, por lo que nuestra  implementación es correcta."
   ]
  },
  {
   "cell_type": "markdown",
   "metadata": {},
   "source": [
    "## Gráfica de las rutas"
   ]
  },
  {
   "cell_type": "code",
   "execution_count": 86,
   "metadata": {},
   "outputs": [
    {
     "data": {
      "image/png": "[encoded data removed]",
      "text/plain": [
       "<Figure size 864x648 with 1 Axes>"
      ]
     },
     "metadata": {},
     "output_type": "display_data"
    }
   ],
   "source": [
    "plt.figure(figsize = (12,9))\n",
    "nx.draw_networkx(G)"
   ]
  },
  {
   "cell_type": "markdown",
   "metadata": {},
   "source": [
    "## Función\n",
    "También podemos crear una función para que sea más fácil y rápido calcular el máximo flujo de pasajeros de un aeropuerto a otro."
   ]
  },
  {
   "cell_type": "code",
   "execution_count": 34,
   "metadata": {},
   "outputs": [],
   "source": [
    "def calculate_flow(source_airport, destiny_airport, data):\n",
    "    \n",
    "    red = ff.create_flow_network()\n",
    "    unique_nodes = np.unique(np.hstack((data[:,0],data[:,1])))\n",
    "    \n",
    "    for node in unique_nodes:\n",
    "    \n",
    "        if node == source_airport:\n",
    "            red.create_vertex('{}'.format(node), True, False)\n",
    "    \n",
    "        elif node == destiny_airport:\n",
    "            red.create_vertex('{}'.format(node), False, True)\n",
    "    \n",
    "        else:\n",
    "            red.create_vertex('{}'.format(node), False, False)\n",
    "        \n",
    "    for row in range(data.shape[0]):\n",
    "        red.create_edge('{}'.format(data[row,0]), '{}'.format(data[row,1]), data[row,4])\n",
    "    \n",
    "    red.MaxFlow()"
   ]
  },
  {
   "cell_type": "code",
   "execution_count": 37,
   "metadata": {},
   "outputs": [],
   "source": [
    "def calculate_flowc(source_airport, destiny_airport, data):\n",
    "    \n",
    "    red = ffc.create_flow_network()\n",
    "    unique_nodes = np.unique(np.hstack((data[:,0],data[:,1])))\n",
    "    \n",
    "    for node in unique_nodes:\n",
    "    \n",
    "        if node == source_airport:\n",
    "            red.create_vertex('{}'.format(node), True, False)\n",
    "    \n",
    "        elif node == destiny_airport:\n",
    "            red.create_vertex('{}'.format(node), False, True)\n",
    "    \n",
    "        else:\n",
    "            red.create_vertex('{}'.format(node), False, False)\n",
    "        \n",
    "    for row in range(data.shape[0]):\n",
    "        red.create_edge('{}'.format(data[row,0]), '{}'.format(data[row,1]), data[row,4])\n",
    "    \n",
    "    red.MaxFlow()"
   ]
  },
  {
   "cell_type": "markdown",
   "metadata": {},
   "source": [
    "## Ejemplos"
   ]
  },
  {
   "cell_type": "markdown",
   "metadata": {},
   "source": [
    "+ De Denver a Atlanta"
   ]
  },
  {
   "cell_type": "code",
   "execution_count": 36,
   "metadata": {},
   "outputs": [
    {
     "name": "stdout",
     "output_type": "stream",
     "text": [
      "CPU times: user 59.8 s, sys: 0 ns, total: 59.8 s\n",
      "Wall time: 59.9 s\n"
     ]
    }
   ],
   "source": [
    "%%time\n",
    "calculate_flow('DEN', 'ATL', data)"
   ]
  },
  {
   "cell_type": "code",
   "execution_count": 38,
   "metadata": {},
   "outputs": [
    {
     "name": "stdout",
     "output_type": "stream",
     "text": [
      "CPU times: user 57 s, sys: 200 ms, total: 57.2 s\n",
      "Wall time: 57.7 s\n"
     ]
    }
   ],
   "source": [
    "%%time\n",
    "calculate_flowc('DEN', 'ATL', data)"
   ]
  },
  {
   "cell_type": "markdown",
   "metadata": {},
   "source": [
    "+ De Boston a Seattle"
   ]
  },
  {
   "cell_type": "code",
   "execution_count": 39,
   "metadata": {},
   "outputs": [
    {
     "name": "stdout",
     "output_type": "stream",
     "text": [
      "CPU times: user 1min 23s, sys: 0 ns, total: 1min 23s\n",
      "Wall time: 1min 25s\n"
     ]
    }
   ],
   "source": [
    "%%time\n",
    "calculate_flow('BOS', 'SEA', data)"
   ]
  },
  {
   "cell_type": "code",
   "execution_count": 40,
   "metadata": {},
   "outputs": [
    {
     "name": "stdout",
     "output_type": "stream",
     "text": [
      "CPU times: user 1min 21s, sys: 239 ms, total: 1min 21s\n",
      "Wall time: 1min 25s\n"
     ]
    }
   ],
   "source": [
    "%%time\n",
    "calculate_flowc('BOS', 'SEA', data)"
   ]
  },
  {
   "cell_type": "markdown",
   "metadata": {},
   "source": [
    "+ De Washington a Phoenix"
   ]
  },
  {
   "cell_type": "code",
   "execution_count": 36,
   "metadata": {},
   "outputs": [
    {
     "name": "stdout",
     "output_type": "stream",
     "text": [
      "CPU times: user 59.8 s, sys: 0 ns, total: 59.8 s\n",
      "Wall time: 59.9 s\n"
     ]
    }
   ],
   "source": [
    "%%time\n",
    "calculate_flow('IAD', 'PHX', data)"
   ]
  },
  {
   "cell_type": "code",
   "execution_count": 38,
   "metadata": {},
   "outputs": [
    {
     "name": "stdout",
     "output_type": "stream",
     "text": [
      "CPU times: user 57 s, sys: 200 ms, total: 57.2 s\n",
      "Wall time: 57.7 s\n"
     ]
    }
   ],
   "source": [
    "%%time\n",
    "calculate_flowc('IAD', 'PHX', data)"
   ]
  },
  {
   "cell_type": "markdown",
   "metadata": {},
   "source": [
    "+ De San Francisco a Atlanta"
   ]
  },
  {
   "cell_type": "code",
   "execution_count": 41,
   "metadata": {},
   "outputs": [
    {
     "name": "stdout",
     "output_type": "stream",
     "text": [
      "CPU times: user 2min 4s, sys: 3.83 ms, total: 2min 4s\n",
      "Wall time: 2min 16s\n"
     ]
    }
   ],
   "source": [
    "%%time\n",
    "calculate_flow('SFO', 'ATL', data)"
   ]
  },
  {
   "cell_type": "code",
   "execution_count": 42,
   "metadata": {},
   "outputs": [
    {
     "name": "stdout",
     "output_type": "stream",
     "text": [
      "CPU times: user 2min, sys: 304 ms, total: 2min\n",
      "Wall time: 2min 7s\n"
     ]
    }
   ],
   "source": [
    "%%time\n",
    "calculate_flowc('SFO', 'ATL', data)"
   ]
  },
  {
   "cell_type": "markdown",
   "metadata": {},
   "source": [
    "+ De Boston a Phoenix"
   ]
  },
  {
   "cell_type": "code",
   "execution_count": 43,
   "metadata": {},
   "outputs": [
    {
     "name": "stdout",
     "output_type": "stream",
     "text": [
      "CPU times: user 14min 14s, sys: 43.4 ms, total: 14min 14s\n",
      "Wall time: 15min 17s\n"
     ]
    }
   ],
   "source": [
    "%%time\n",
    "calculate_flow('BOS', 'PHX', data)"
   ]
  },
  {
   "cell_type": "code",
   "execution_count": 44,
   "metadata": {},
   "outputs": [
    {
     "name": "stdout",
     "output_type": "stream",
     "text": [
      "CPU times: user 13min 54s, sys: 2.3 s, total: 13min 56s\n",
      "Wall time: 15min 9s\n"
     ]
    }
   ],
   "source": [
    "%%time\n",
    "calculate_flowc('BOS', 'PHX', data)"
   ]
  },
  {
   "cell_type": "code",
   "execution_count": null,
   "metadata": {},
   "outputs": [],
   "source": []
  }
 ],
 "metadata": {
  "kernelspec": {
   "display_name": "Python 3",
   "language": "python",
   "name": "python3"
  },
  "language_info": {
   "codemirror_mode": {
    "name": "ipython",
    "version": 3
   },
   "file_extension": ".py",
   "mimetype": "text/x-python",
   "name": "python",
   "nbconvert_exporter": "python",
   "pygments_lexer": "ipython3",
   "version": "3.8.5"
  }
 },
 "nbformat": 4,
 "nbformat_minor": 4
}
