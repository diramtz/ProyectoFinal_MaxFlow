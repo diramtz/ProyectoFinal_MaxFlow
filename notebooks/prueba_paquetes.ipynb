{
 "cells": [
  {
   "cell_type": "markdown",
   "metadata": {},
   "source": [
    "# Flujo Máximo: Ford Fulkerson"
   ]
  },
  {
   "cell_type": "code",
   "execution_count": 1,
   "metadata": {},
   "outputs": [],
   "source": [
    "import pandas as pd\n",
    "import numpy as np\n",
    "import networkx as nx\n",
    "import ffmaxflow as ff\n",
    "import time"
   ]
  },
  {
   "cell_type": "code",
   "execution_count": 3,
   "metadata": {},
   "outputs": [
    {
     "name": "stdout",
     "output_type": "stream",
     "text": [
      "Processing /home/diramtz/Documents/Optimizacion/proyecto_final/ffmaxc\n",
      "Building wheels for collected packages: UNKNOWN\n",
      "  Building wheel for UNKNOWN (setup.py) ... \u001b[?25ldone\n",
      "\u001b[?25h  Created wheel for UNKNOWN: filename=UNKNOWN-0.0.0-cp38-cp38-linux_x86_64.whl size=250172 sha256=a01f72fda3f37838fbaec64a2fbb88b3da383567ae07d6eb58d755dfa5fa7817\n",
      "  Stored in directory: /tmp/pip-ephem-wheel-cache-ftibe8xx/wheels/d8/77/a9/be2adc6140cbfe720488760bcf73bce4b74444c0ed7187d769\n",
      "Successfully built UNKNOWN\n",
      "Installing collected packages: UNKNOWN\n",
      "  Attempting uninstall: UNKNOWN\n",
      "    Found existing installation: UNKNOWN 0.0.0\n",
      "    Uninstalling UNKNOWN-0.0.0:\n",
      "      Successfully uninstalled UNKNOWN-0.0.0\n",
      "Successfully installed UNKNOWN-0.0.0\n"
     ]
    }
   ],
   "source": [
    "!pip install ../ffmaxc/"
   ]
  },
  {
   "cell_type": "markdown",
   "metadata": {},
   "source": [
    "## Leer los datos"
   ]
  },
  {
   "cell_type": "code",
   "execution_count": 5,
   "metadata": {},
   "outputs": [],
   "source": [
    "#with open(\"elist1440.txt\") as myfile:\n",
    "with open(\"../data/elist960d.txt\") as myfile:\n",
    "    meta = [next(myfile)[:-1] for x in range(4)]"
   ]
  },
  {
   "cell_type": "code",
   "execution_count": 6,
   "metadata": {},
   "outputs": [
    {
     "data": {
      "text/plain": [
       "['  960', '  9488', '  1', '  960']"
      ]
     },
     "execution_count": 6,
     "metadata": {},
     "output_type": "execute_result"
    }
   ],
   "source": [
    "meta"
   ]
  },
  {
   "cell_type": "code",
   "execution_count": 7,
   "metadata": {},
   "outputs": [],
   "source": [
    "#df = pd.read_csv(\"elist1440.txt\",skiprows = 4,  sep = \"\\s+\")\n",
    "df = pd.read_csv(\"../data/elist960d.txt\",skiprows = 4,  sep = \"\\s+\")"
   ]
  },
  {
   "cell_type": "code",
   "execution_count": 8,
   "metadata": {},
   "outputs": [],
   "source": [
    "data = df.values.astype(int)"
   ]
  },
  {
   "cell_type": "code",
   "execution_count": 9,
   "metadata": {},
   "outputs": [
    {
     "data": {
      "text/plain": [
       "(9487, 3)"
      ]
     },
     "execution_count": 9,
     "metadata": {},
     "output_type": "execute_result"
    }
   ],
   "source": [
    "data.shape"
   ]
  },
  {
   "cell_type": "code",
   "execution_count": 10,
   "metadata": {},
   "outputs": [
    {
     "data": {
      "text/plain": [
       "array([[  1,  65, 800],\n",
       "       [  1, 273,   0],\n",
       "       [  1, 305,   2],\n",
       "       ...,\n",
       "       [960, 624,   5],\n",
       "       [960, 896, 800],\n",
       "       [960, 944, 800]])"
      ]
     },
     "execution_count": 10,
     "metadata": {},
     "output_type": "execute_result"
    }
   ],
   "source": [
    "data"
   ]
  },
  {
   "cell_type": "markdown",
   "metadata": {},
   "source": [
    "## Paquete original"
   ]
  },
  {
   "cell_type": "code",
   "execution_count": 11,
   "metadata": {},
   "outputs": [],
   "source": [
    "red = ff.create_flow_network()"
   ]
  },
  {
   "cell_type": "code",
   "execution_count": 12,
   "metadata": {},
   "outputs": [
    {
     "name": "stdout",
     "output_type": "stream",
     "text": [
      "Nodo destino ya ha sido agregado. \n",
      " El cálculo del flujo máximo continúa con el primer valor asignado al nodo destino.\n",
      "Nodo destino ya ha sido agregado. \n",
      " El cálculo del flujo máximo continúa con el primer valor asignado al nodo destino.\n",
      "Nodo destino ya ha sido agregado. \n",
      " El cálculo del flujo máximo continúa con el primer valor asignado al nodo destino.\n",
      "Nodo destino ya ha sido agregado. \n",
      " El cálculo del flujo máximo continúa con el primer valor asignado al nodo destino.\n",
      "Nodo destino ya ha sido agregado. \n",
      " El cálculo del flujo máximo continúa con el primer valor asignado al nodo destino.\n",
      "Nodo destino ya ha sido agregado. \n",
      " El cálculo del flujo máximo continúa con el primer valor asignado al nodo destino.\n"
     ]
    }
   ],
   "source": [
    "for row in range(data.shape[0]):\n",
    "    \n",
    "    if data[row,0] == int(meta[2]):\n",
    "        red.create_vertex('{}'.format(data[row,0]), True, False)\n",
    "    \n",
    "    elif data[row,1] == int(meta[3]):\n",
    "        red.create_vertex('{}'.format(data[row,1]), False, True)\n",
    "    \n",
    "    else:\n",
    "        red.create_vertex('{}'.format(data[row,0]), False, False)\n",
    "        red.create_vertex('{}'.format(data[row,1]), False, False)\n",
    "        \n",
    "    red.create_edge('{}'.format(data[row,0]), '{}'.format(data[row,1]), data[row,2])"
   ]
  },
  {
   "cell_type": "code",
   "execution_count": 13,
   "metadata": {},
   "outputs": [
    {
     "data": {
      "text/plain": [
       "0"
      ]
     },
     "execution_count": 13,
     "metadata": {},
     "output_type": "execute_result"
    }
   ],
   "source": [
    "red.MaxFlow()"
   ]
  },
  {
   "cell_type": "markdown",
   "metadata": {},
   "source": [
    "## Con paquetería networkx"
   ]
  },
  {
   "cell_type": "code",
   "execution_count": 14,
   "metadata": {},
   "outputs": [],
   "source": [
    "G = nx.DiGraph()"
   ]
  },
  {
   "cell_type": "code",
   "execution_count": 15,
   "metadata": {},
   "outputs": [],
   "source": [
    "for row in range(data.shape[0]):\n",
    "    G.add_edge('{}'.format(data[row,0]), '{}'.format(data[row,1]), capacity = data[row,2])"
   ]
  },
  {
   "cell_type": "code",
   "execution_count": 16,
   "metadata": {},
   "outputs": [],
   "source": [
    "flow_value, flow_dict = nx.maximum_flow(G, '{}'.format(int(meta[2])), '{}'.format(int(meta[3])))"
   ]
  },
  {
   "cell_type": "code",
   "execution_count": 17,
   "metadata": {},
   "outputs": [
    {
     "data": {
      "text/plain": [
       "297"
      ]
     },
     "execution_count": 17,
     "metadata": {},
     "output_type": "execute_result"
    }
   ],
   "source": [
    "flow_value"
   ]
  },
  {
   "cell_type": "markdown",
   "metadata": {},
   "source": [
    "## Con paquete reimplementado"
   ]
  },
  {
   "cell_type": "code",
   "execution_count": 18,
   "metadata": {},
   "outputs": [],
   "source": [
    "import ffmaxc as ffc"
   ]
  },
  {
   "cell_type": "code",
   "execution_count": 19,
   "metadata": {},
   "outputs": [],
   "source": [
    "red = ffc.create_flow_network()"
   ]
  },
  {
   "cell_type": "code",
   "execution_count": 20,
   "metadata": {},
   "outputs": [
    {
     "name": "stdout",
     "output_type": "stream",
     "text": [
      "Nodo destino ya ha sido agregado. \n",
      " El cálculo del flujo máximo continúa con el primer valor asignado al nodo destino.\n"
     ]
    },
    {
     "ename": "AttributeError",
     "evalue": "'NoneType' object has no attribute 'name'",
     "output_type": "error",
     "traceback": [
      "\u001b[0;31m---------------------------------------------------------------------------\u001b[0m",
      "\u001b[0;31mAttributeError\u001b[0m                            Traceback (most recent call last)",
      "\u001b[0;32m<ipython-input-20-54a912087c83>\u001b[0m in \u001b[0;36m<module>\u001b[0;34m\u001b[0m\n\u001b[1;32m     11\u001b[0m         \u001b[0mred\u001b[0m\u001b[0;34m.\u001b[0m\u001b[0mcreate_vertex\u001b[0m\u001b[0;34m(\u001b[0m\u001b[0;34m'{}'\u001b[0m\u001b[0;34m.\u001b[0m\u001b[0mformat\u001b[0m\u001b[0;34m(\u001b[0m\u001b[0mdata\u001b[0m\u001b[0;34m[\u001b[0m\u001b[0mrow\u001b[0m\u001b[0;34m,\u001b[0m\u001b[0;36m1\u001b[0m\u001b[0;34m]\u001b[0m\u001b[0;34m)\u001b[0m\u001b[0;34m,\u001b[0m \u001b[0;32mFalse\u001b[0m\u001b[0;34m,\u001b[0m \u001b[0;32mFalse\u001b[0m\u001b[0;34m)\u001b[0m\u001b[0;34m\u001b[0m\u001b[0;34m\u001b[0m\u001b[0m\n\u001b[1;32m     12\u001b[0m \u001b[0;34m\u001b[0m\u001b[0m\n\u001b[0;32m---> 13\u001b[0;31m     \u001b[0mred\u001b[0m\u001b[0;34m.\u001b[0m\u001b[0mcreate_edge\u001b[0m\u001b[0;34m(\u001b[0m\u001b[0;34m'{}'\u001b[0m\u001b[0;34m.\u001b[0m\u001b[0mformat\u001b[0m\u001b[0;34m(\u001b[0m\u001b[0mdata\u001b[0m\u001b[0;34m[\u001b[0m\u001b[0mrow\u001b[0m\u001b[0;34m,\u001b[0m\u001b[0;36m0\u001b[0m\u001b[0;34m]\u001b[0m\u001b[0;34m)\u001b[0m\u001b[0;34m,\u001b[0m \u001b[0;34m'{}'\u001b[0m\u001b[0;34m.\u001b[0m\u001b[0mformat\u001b[0m\u001b[0;34m(\u001b[0m\u001b[0mdata\u001b[0m\u001b[0;34m[\u001b[0m\u001b[0mrow\u001b[0m\u001b[0;34m,\u001b[0m\u001b[0;36m1\u001b[0m\u001b[0;34m]\u001b[0m\u001b[0;34m)\u001b[0m\u001b[0;34m,\u001b[0m \u001b[0mdata\u001b[0m\u001b[0;34m[\u001b[0m\u001b[0mrow\u001b[0m\u001b[0;34m,\u001b[0m\u001b[0;36m2\u001b[0m\u001b[0;34m]\u001b[0m\u001b[0;34m)\u001b[0m\u001b[0;34m\u001b[0m\u001b[0;34m\u001b[0m\u001b[0m\n\u001b[0m",
      "\u001b[0;32mffmaxc.pyx\u001b[0m in \u001b[0;36mffmaxc.create_flow_network.create_edge\u001b[0;34m()\u001b[0m\n",
      "\u001b[0;31mAttributeError\u001b[0m: 'NoneType' object has no attribute 'name'"
     ]
    }
   ],
   "source": [
    "for row in range(data.shape[0]):\n",
    "    \n",
    "    if data[row,0] == int(meta[2]):\n",
    "        red.create_vertex('{}'.format(data[row,0]), True, False)\n",
    "    \n",
    "    elif data[row,1] == int(meta[3]):\n",
    "        red.create_vertex('{}'.format(data[row,1]), False, True)\n",
    "    \n",
    "    else:\n",
    "        red.create_vertex('{}'.format(data[row,0]), False, False)\n",
    "        red.create_vertex('{}'.format(data[row,1]), False, False)\n",
    "        \n",
    "    red.create_edge('{}'.format(data[row,0]), '{}'.format(data[row,1]), data[row,2])"
   ]
  },
  {
   "cell_type": "code",
   "execution_count": 21,
   "metadata": {},
   "outputs": [
    {
     "data": {
      "text/plain": [
       "'La red no tiene nodo origen y/o destino '"
      ]
     },
     "execution_count": 21,
     "metadata": {},
     "output_type": "execute_result"
    }
   ],
   "source": [
    "red.MaxFlow()"
   ]
  },
  {
   "cell_type": "code",
   "execution_count": null,
   "metadata": {},
   "outputs": [],
   "source": [
    "# no sé por qué no funciona arriba si el ejemplo de abajo sí sale :( \n",
    "# lo checo :("
   ]
  },
  {
   "cell_type": "code",
   "execution_count": 22,
   "metadata": {},
   "outputs": [],
   "source": [
    "start_time = time.time()\n",
    "\n",
    "red = ffc.create_flow_network()\n",
    "\n",
    "red.create_vertex('o', True, False) \n",
    "red.create_vertex('t', False, True) \n",
    "red.create_vertex('a', False, False)\n",
    "red.create_vertex('b', False, False)\n",
    "red.create_vertex('c', False, False)\n",
    "red.create_vertex('d', False, False)\n",
    "red.create_vertex('e', False, False)\n",
    "\n",
    "red.create_edge('o', 'a', 5)\n",
    "red.create_edge('o', 'b', 7)\n",
    "red.create_edge('o', 'c', 4)\n",
    "\n",
    "red.create_edge('a', 'b', 1)\n",
    "red.create_edge('a', 'd', 3)\n",
    "\n",
    "red.create_edge('b', 'c', 2)\n",
    "red.create_edge('b', 'd', 4)\n",
    "red.create_edge('b', 'e', 5)\n",
    "\n",
    "red.create_edge('c', 'e', 4)\n",
    "\n",
    "red.create_edge('d', 't', 9)\n",
    "\n",
    "red.create_edge('e', 'd', 1)\n",
    "red.create_edge('e', 't', 9)\n",
    "\n",
    "red.MaxFlow()\n",
    "\n",
    "end_time = time.time()"
   ]
  },
  {
   "cell_type": "code",
   "execution_count": 23,
   "metadata": {},
   "outputs": [
    {
     "data": {
      "text/plain": [
       "15.0"
      ]
     },
     "execution_count": 23,
     "metadata": {},
     "output_type": "execute_result"
    }
   ],
   "source": [
    "red.MaxFlow()"
   ]
  },
  {
   "cell_type": "code",
   "execution_count": null,
   "metadata": {},
   "outputs": [],
   "source": []
  }
 ],
 "metadata": {
  "kernelspec": {
   "display_name": "Python 3",
   "language": "python",
   "name": "python3"
  },
  "language_info": {
   "codemirror_mode": {
    "name": "ipython",
    "version": 3
   },
   "file_extension": ".py",
   "mimetype": "text/x-python",
   "name": "python",
   "nbconvert_exporter": "python",
   "pygments_lexer": "ipython3",
   "version": "3.8.5"
  }
 },
 "nbformat": 4,
 "nbformat_minor": 4
}
