{
 "cells": [
  {
   "cell_type": "markdown",
   "id": "possible-mapping",
   "metadata": {},
   "source": [
    "# Problema de flujo con oferta y demanda"
   ]
  },
  {
   "cell_type": "markdown",
   "id": "drawn-optimization",
   "metadata": {},
   "source": [
    "Otra de las aplicaciones de este paquete es resolver problemas de flujo máximo con oferta y demanda, este tipo de problemas es muy similar al problema original de flujo máximo pero ahora los nodos cuentan con un parámetro extra, una oferta o una demanda, es decir, un nodo origen debería tener una capacidad de oferta y un nodo destino debería tener una capacidad de demanda. \n",
    "\n",
    "Ahora el problema a resolver es encontrar un flujo que satisfaga la demanda, podemos hallar una solución para este problema con el algoritmo de Ford-Fulkerson, transformando la red de tal manera que la solución del problema de flujo máximo nos de la solución del problema de flujo con oferta y demanda."
   ]
  },
  {
   "cell_type": "markdown",
   "id": "physical-nigeria",
   "metadata": {},
   "source": [
    "Para poder hacer esta transformación necesitamos:\n",
    "\n",
    "- Agregar un nodo de origen $s$ y arcos desde él a cada nodo origen original $f_i$ con capacidad $p_i$ donde $p_i$ es la oferta de cada nodo origen original.\n",
    "    \n",
    "- Agregar un nodo destino $t$ y arcos de todas los nodos destino originales $v_i$ a $t$ con capacidad $d_i$ donde $d_i$ es la demanda de cada nodo destino original."
   ]
  },
  {
   "cell_type": "markdown",
   "id": "atlantic-insured",
   "metadata": {},
   "source": [
    "Ahora con esta nueva red, existe un flujo que satisface la demanda si y solo si:\n",
    "    \n",
    "$$\\text{Flujo Máximo} = \\sum_{i \\in V} d_i$$"
   ]
  },
  {
   "cell_type": "markdown",
   "id": "dimensional-discussion",
   "metadata": {},
   "source": [
    "Si ocurre lo anterior, la soución del problema de flujo máximo nos daría la respuesta de cuantas unidades enviar por cada arco para satisfacer la demanda, es decir, ontendriamos la solución del problema de flujo con oferta y demanda."
   ]
  },
  {
   "cell_type": "markdown",
   "id": "hired-information",
   "metadata": {},
   "source": [
    "## Ejemplo:\n",
    "\n",
    "Usaremos el ejemplo de la siguiente imagen:"
   ]
  },
  {
   "cell_type": "markdown",
   "id": "geological-mortality",
   "metadata": {},
   "source": [
    "![Flujo](../img/ford_fulkerson11.png)"
   ]
  },
  {
   "cell_type": "markdown",
   "id": "reflected-albuquerque",
   "metadata": {},
   "source": [
    "Observemos en (a) que los nodos tienen un número en su interior, este representa la oferta y la demanda.\n",
    "\n",
    "En (b) observamos la creación de dos nodos extra, $s^*$ y $t^*$, que serán nuestros nuevos nodos origen y destino respectivamente, también se crearon nuevos arcos con capacidad igual a la oferta o demanda del nodo.\n",
    "\n",
    "En (c) observamos la solución de este problema, la solución del problema de flujo máximo es $6$ y es igual a la demanda de nuestra red, por lo que también se resolvió el problema de flujo con oferta y demanda."
   ]
  },
  {
   "cell_type": "markdown",
   "id": "cosmetic-bandwidth",
   "metadata": {},
   "source": [
    "## Implementación:"
   ]
  },
  {
   "cell_type": "code",
   "execution_count": 3,
   "id": "acting-grenada",
   "metadata": {},
   "outputs": [],
   "source": [
    "import ffmaxflow as ff"
   ]
  },
  {
   "cell_type": "code",
   "execution_count": 4,
   "id": "valued-listing",
   "metadata": {},
   "outputs": [],
   "source": [
    "red = ff.create_flow_network()\n",
    "\n",
    "red.create_vertex('s', True, False) \n",
    "red.create_vertex('t', False, True) \n",
    "red.create_vertex('a', False, False)\n",
    "red.create_vertex('b', False, False)\n",
    "red.create_vertex('c', False, False)\n",
    "red.create_vertex('d', False, False)"
   ]
  },
  {
   "cell_type": "code",
   "execution_count": 5,
   "id": "portuguese-crown",
   "metadata": {},
   "outputs": [],
   "source": [
    "red.create_edge('s', 'd', 3)\n",
    "red.create_edge('s', 'a', 3)\n",
    "\n",
    "red.create_edge('a', 'c', 3)\n",
    "red.create_edge('a', 'd', 3)\n",
    "\n",
    "red.create_edge('d', 'c', 3)\n",
    "red.create_edge('d', 'b', 2)\n",
    "\n",
    "red.create_edge('b', 't', 4)\n",
    "\n",
    "red.create_edge('c', 't', 2)\n",
    "red.create_edge('c', 'b', 2)"
   ]
  },
  {
   "cell_type": "code",
   "execution_count": 6,
   "id": "catholic-award",
   "metadata": {},
   "outputs": [
    {
     "data": {
      "text/plain": [
       "6"
      ]
     },
     "execution_count": 6,
     "metadata": {},
     "output_type": "execute_result"
    }
   ],
   "source": [
    "red.MaxFlow()"
   ]
  },
  {
   "cell_type": "markdown",
   "id": "painful-malpractice",
   "metadata": {},
   "source": [
    " **Ahora usaremos el paquete networkx para recuperar el flujo de cada arco**"
   ]
  },
  {
   "cell_type": "code",
   "execution_count": 20,
   "id": "appointed-independence",
   "metadata": {},
   "outputs": [
    {
     "data": {
      "text/plain": [
       "6"
      ]
     },
     "execution_count": 20,
     "metadata": {},
     "output_type": "execute_result"
    }
   ],
   "source": [
    "import networkx as nx\n",
    "G = nx.DiGraph()\n",
    "\n",
    "G.add_edge('s', 'd', capacity=3)\n",
    "G.add_edge('s', 'a', capacity=3)\n",
    "\n",
    "G.add_edge('a', 'c', capacity=3)\n",
    "G.add_edge('a', 'd', capacity=3)\n",
    "\n",
    "G.add_edge('d', 'c', capacity=3)\n",
    "G.add_edge('d', 'b', capacity=2)\n",
    "\n",
    "G.add_edge('b', 't', capacity=4)\n",
    "\n",
    "G.add_edge('c', 'b', capacity=2)\n",
    "G.add_edge('c', 't', capacity=2)\n",
    "\n",
    "flow_value, flow_dict = nx.maximum_flow(G, 's', 't')\n",
    "flow_value"
   ]
  },
  {
   "cell_type": "code",
   "execution_count": 21,
   "id": "stylish-dealer",
   "metadata": {},
   "outputs": [
    {
     "data": {
      "text/plain": [
       "{'s': {'d': 3, 'a': 3},\n",
       " 'd': {'c': 1, 'b': 2},\n",
       " 'a': {'c': 3, 'd': 0},\n",
       " 'c': {'b': 2, 't': 2},\n",
       " 'b': {'t': 4},\n",
       " 't': {}}"
      ]
     },
     "execution_count": 21,
     "metadata": {},
     "output_type": "execute_result"
    }
   ],
   "source": [
    "flow_dict"
   ]
  },
  {
   "cell_type": "markdown",
   "id": "nutritional-hearing",
   "metadata": {},
   "source": [
    "Observamos que nos da una solución alterna a la de la imagen, es decir, en este problema la solución no es única. Un siguiente paso podría ser agregar un costo a cada arco para así poder encontrar la solución optima."
   ]
  }
 ],
 "metadata": {
  "kernelspec": {
   "display_name": "dpa",
   "language": "python",
   "name": "dpa"
  },
  "language_info": {
   "codemirror_mode": {
    "name": "ipython",
    "version": 3
   },
   "file_extension": ".py",
   "mimetype": "text/x-python",
   "name": "python",
   "nbconvert_exporter": "python",
   "pygments_lexer": "ipython3",
   "version": "3.7.4"
  }
 },
 "nbformat": 4,
 "nbformat_minor": 5
}
