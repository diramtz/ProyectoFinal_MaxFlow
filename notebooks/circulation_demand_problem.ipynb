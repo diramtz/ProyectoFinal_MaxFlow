{
 "cells": [
  {
   "cell_type": "markdown",
   "id": "historical-devon",
   "metadata": {},
   "source": [
    "# Problema de flujo con oferta y demanda"
   ]
  },
  {
   "cell_type": "markdown",
   "id": "unable-modification",
   "metadata": {},
   "source": [
    "Otra de las aplicaciones de este paquete es resolver problemas de flujo con oferta y demanda, este tipo de problemas es muy similar al problema original de flujo máximo pero ahora los nodos cuentan con un parámetro extra, una oferta o una demanda, es decir, un nodo origen debería tener una capacidad de oferta y un nodo destino debería tener una capacidad de demanda. \n",
    "\n",
    "Ahora el problema a resolver es encontrar un flujo que satisfaga la demanda, podemos hallar una solución para este problema con el algoritmo de Ford-Fulkerson, transformando la red de tal manera que la solución del problema de flujo máximo nos de la solución del problema de flujo con oferta y demanda."
   ]
  },
  {
   "cell_type": "markdown",
   "id": "elegant-geography",
   "metadata": {},
   "source": [
    "Para poder hacer esta transformación necesitamos:\n",
    "\n",
    "- Agregar un nodo de origen $s$ y arcos desde él a cada nodo origen original $f_i$ con capacidad $p_i$ donde $p_i$ es la oferta de cada nodo origen original.\n",
    "    \n",
    "- Agregar un nodo destino $t$ y arcos de todas los nodos destino originales $v_i$ a $t$ con capacidad $d_i$ donde $d_i$ es la demanda de cada nodo destino original."
   ]
  },
  {
   "cell_type": "markdown",
   "id": "rational-language",
   "metadata": {},
   "source": [
    "Ahora con esta nueva red, existe un flujo que satisface la demanda si y solo si:\n",
    "    \n",
    "$$\\text{Flujo Máximo} = \\sum_{i \\in V} d_i$$"
   ]
  },
  {
   "cell_type": "markdown",
   "id": "european-separate",
   "metadata": {},
   "source": [
    "Si ocurre lo anterior, la soución del problema de flujo máximo nos daría la respuesta de cuantas unidades enviar por cada arco para satisfacer la demanda, es decir, ontendriamos la solución del problema de flujo con oferta y demanda."
   ]
  },
  {
   "cell_type": "markdown",
   "id": "alike-alfred",
   "metadata": {},
   "source": [
    "## Ejemplo:\n",
    "\n",
    "Usaremos el ejemplo de la siguiente imagen:"
   ]
  },
  {
   "cell_type": "markdown",
   "id": "mediterranean-insertion",
   "metadata": {},
   "source": [
    "![Flujo](../img/ford_fulkerson11.png)"
   ]
  },
  {
   "cell_type": "markdown",
   "id": "becoming-transcription",
   "metadata": {},
   "source": [
    "En (a) observamos los nodos originales, estos tienen un número en su interior que representa la oferta y la demanda, los nodos blancos representan los nodos origen, por lo que el número representa una oferta y los nodos grises son nodos destino y estos tienen una demanda que cumplir. Observamos 5 arcos con un número que representa la capacidad de cada arco.\n",
    "\n",
    "En (b) observamos la creación de dos nodos extra, $s^*$ y $t^*$, que serán nuestros nuevos nodos origen y destino respectivamente, también se crearon nuevos arcos con capacidad igual a la oferta o demanda del nodo al que se conectan.\n",
    "\n",
    "En (c) observamos la solución de este problema, la solución del problema de flujo máximo es $6$ y es igual a la demanda de nuestra red, por lo que también se resolvió el problema de flujo con oferta y demanda."
   ]
  },
  {
   "cell_type": "markdown",
   "id": "demographic-daily",
   "metadata": {},
   "source": [
    "## Implementación:"
   ]
  },
  {
   "cell_type": "markdown",
   "id": "effective-lodge",
   "metadata": {},
   "source": [
    "Primero resolveremos el problema con el paquete *ffmaxflow*"
   ]
  },
  {
   "cell_type": "code",
   "execution_count": 48,
   "id": "practical-wagon",
   "metadata": {},
   "outputs": [],
   "source": [
    "import ffmaxflow as ff"
   ]
  },
  {
   "cell_type": "code",
   "execution_count": 49,
   "id": "extreme-agriculture",
   "metadata": {},
   "outputs": [],
   "source": [
    "red = ff.create_flow_network()"
   ]
  },
  {
   "cell_type": "code",
   "execution_count": 50,
   "id": "collective-teach",
   "metadata": {},
   "outputs": [],
   "source": [
    "red.create_vertex('s', True, False) \n",
    "red.create_vertex('t', False, True) \n",
    "red.create_vertex('a', False, False)\n",
    "red.create_vertex('b', False, False)\n",
    "red.create_vertex('c', False, False)\n",
    "red.create_vertex('d', False, False)"
   ]
  },
  {
   "cell_type": "code",
   "execution_count": 51,
   "id": "restricted-shannon",
   "metadata": {},
   "outputs": [],
   "source": [
    "red.create_edge('s', 'd', 3)\n",
    "red.create_edge('s', 'a', 3)\n",
    "\n",
    "red.create_edge('a', 'c', 3)\n",
    "red.create_edge('a', 'd', 3)\n",
    "\n",
    "red.create_edge('d', 'c', 3)\n",
    "red.create_edge('d', 'b', 2)\n",
    "\n",
    "red.create_edge('b', 't', 4)\n",
    "\n",
    "red.create_edge('c', 't', 2)\n",
    "red.create_edge('c', 'b', 2)"
   ]
  },
  {
   "cell_type": "code",
   "execution_count": 52,
   "id": "neither-visibility",
   "metadata": {},
   "outputs": [
    {
     "name": "stdout",
     "output_type": "stream",
     "text": [
      "CPU times: user 50 µs, sys: 63 µs, total: 113 µs\n",
      "Wall time: 117 µs\n"
     ]
    },
    {
     "data": {
      "text/plain": [
       "6"
      ]
     },
     "execution_count": 52,
     "metadata": {},
     "output_type": "execute_result"
    }
   ],
   "source": [
    "%%time\n",
    "red.MaxFlow()"
   ]
  },
  {
   "cell_type": "markdown",
   "id": "different-jordan",
   "metadata": {},
   "source": [
    "Ahora resolveremos con *ffmaxc* y comprobaremos que los resultados coinciden."
   ]
  },
  {
   "cell_type": "code",
   "execution_count": 53,
   "id": "thermal-shipping",
   "metadata": {},
   "outputs": [],
   "source": [
    "import ffmaxc as ffc"
   ]
  },
  {
   "cell_type": "code",
   "execution_count": 54,
   "id": "injured-spring",
   "metadata": {},
   "outputs": [],
   "source": [
    "red = ffc.create_flow_network()"
   ]
  },
  {
   "cell_type": "code",
   "execution_count": 55,
   "id": "exclusive-stephen",
   "metadata": {},
   "outputs": [],
   "source": [
    "red.create_vertex('s', True, False) \n",
    "red.create_vertex('t', False, True) \n",
    "red.create_vertex('a', False, False)\n",
    "red.create_vertex('b', False, False)\n",
    "red.create_vertex('c', False, False)\n",
    "red.create_vertex('d', False, False)"
   ]
  },
  {
   "cell_type": "code",
   "execution_count": 56,
   "id": "absent-potential",
   "metadata": {},
   "outputs": [],
   "source": [
    "red.create_edge('s', 'd', 3)\n",
    "red.create_edge('s', 'a', 3)\n",
    "\n",
    "red.create_edge('a', 'c', 3)\n",
    "red.create_edge('a', 'd', 3)\n",
    "\n",
    "red.create_edge('d', 'c', 3)\n",
    "red.create_edge('d', 'b', 2)\n",
    "\n",
    "red.create_edge('b', 't', 4)\n",
    "\n",
    "red.create_edge('c', 't', 2)\n",
    "red.create_edge('c', 'b', 2)"
   ]
  },
  {
   "cell_type": "code",
   "execution_count": 57,
   "id": "rolled-solid",
   "metadata": {},
   "outputs": [
    {
     "name": "stdout",
     "output_type": "stream",
     "text": [
      "CPU times: user 49 µs, sys: 61 µs, total: 110 µs\n",
      "Wall time: 114 µs\n"
     ]
    },
    {
     "data": {
      "text/plain": [
       "6.0"
      ]
     },
     "execution_count": 57,
     "metadata": {},
     "output_type": "execute_result"
    }
   ],
   "source": [
    "%%time\n",
    "red.MaxFlow()"
   ]
  },
  {
   "cell_type": "markdown",
   "id": "brown-token",
   "metadata": {},
   "source": [
    " Ahora usaremos el paquete networkx para recuperar el flujo de cada arco y así obtener la solución para el problema de demanda."
   ]
  },
  {
   "cell_type": "code",
   "execution_count": 58,
   "id": "current-stuart",
   "metadata": {},
   "outputs": [],
   "source": [
    "import networkx as nx"
   ]
  },
  {
   "cell_type": "code",
   "execution_count": 59,
   "id": "written-charleston",
   "metadata": {},
   "outputs": [],
   "source": [
    "G = nx.DiGraph()"
   ]
  },
  {
   "cell_type": "code",
   "execution_count": 60,
   "id": "sexual-enlargement",
   "metadata": {},
   "outputs": [],
   "source": [
    "G.add_edge('s', 'd', capacity=3)\n",
    "G.add_edge('s', 'a', capacity=3)\n",
    "\n",
    "G.add_edge('a', 'c', capacity=3)\n",
    "G.add_edge('a', 'd', capacity=3)\n",
    "\n",
    "G.add_edge('d', 'c', capacity=3)\n",
    "G.add_edge('d', 'b', capacity=2)\n",
    "\n",
    "G.add_edge('b', 't', capacity=4)\n",
    "\n",
    "G.add_edge('c', 'b', capacity=2)\n",
    "G.add_edge('c', 't', capacity=2)"
   ]
  },
  {
   "cell_type": "code",
   "execution_count": 61,
   "id": "bronze-herald",
   "metadata": {},
   "outputs": [
    {
     "name": "stdout",
     "output_type": "stream",
     "text": [
      "CPU times: user 245 µs, sys: 308 µs, total: 553 µs\n",
      "Wall time: 559 µs\n"
     ]
    }
   ],
   "source": [
    "%%time\n",
    "flow_value, flow_dict = nx.maximum_flow(G, 's', 't')"
   ]
  },
  {
   "cell_type": "code",
   "execution_count": 62,
   "id": "statistical-european",
   "metadata": {},
   "outputs": [
    {
     "data": {
      "text/plain": [
       "6"
      ]
     },
     "execution_count": 62,
     "metadata": {},
     "output_type": "execute_result"
    }
   ],
   "source": [
    "flow_value"
   ]
  },
  {
   "cell_type": "code",
   "execution_count": 63,
   "id": "executive-webmaster",
   "metadata": {},
   "outputs": [
    {
     "data": {
      "text/plain": [
       "{'s': {'d': 3, 'a': 3},\n",
       " 'd': {'c': 1, 'b': 2},\n",
       " 'a': {'c': 3, 'd': 0},\n",
       " 'c': {'b': 2, 't': 2},\n",
       " 'b': {'t': 4},\n",
       " 't': {}}"
      ]
     },
     "execution_count": 63,
     "metadata": {},
     "output_type": "execute_result"
    }
   ],
   "source": [
    "flow_dict"
   ]
  },
  {
   "cell_type": "markdown",
   "id": "reduced-enemy",
   "metadata": {},
   "source": [
    "Observamos que nos da una solución distinta a la de la imagen, es decir, en el problema de flujo con oferta y demanda la solución no es única. Un siguiente paso podría ser agregar un costo a cada arco para así poder encontrar la solución optima."
   ]
  }
 ],
 "metadata": {
  "kernelspec": {
   "display_name": "dpa",
   "language": "python",
   "name": "dpa"
  },
  "language_info": {
   "codemirror_mode": {
    "name": "ipython",
    "version": 3
   },
   "file_extension": ".py",
   "mimetype": "text/x-python",
   "name": "python",
   "nbconvert_exporter": "python",
   "pygments_lexer": "ipython3",
   "version": "3.7.4"
  }
 },
 "nbformat": 4,
 "nbformat_minor": 5
}
