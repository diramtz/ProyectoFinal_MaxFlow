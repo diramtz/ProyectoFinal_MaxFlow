{
 "cells": [
  {
   "cell_type": "markdown",
   "id": "current-gamma",
   "metadata": {},
   "source": [
    "# Problema de flujo con oferta y demanda"
   ]
  },
  {
   "cell_type": "markdown",
   "id": "amateur-drink",
   "metadata": {},
   "source": [
    "Otra de las aplicaciones de este paquete es resolver problemas de flujo con oferta y demanda, este tipo de problemas es muy similar al problema original de flujo máximo pero ahora los nodos cuentan con un parámetro extra, una oferta o una demanda, es decir, un nodo origen debería tener una capacidad de oferta y un nodo destino debería tener una capacidad de demanda. \n",
    "\n",
    "Ahora el problema a resolver es encontrar un flujo que satisfaga la demanda, podemos hallar una solución para este problema con el algoritmo de Ford-Fulkerson, transformando la red de tal manera que la solución del problema de flujo máximo nos de la solución del problema de flujo con oferta y demanda."
   ]
  },
  {
   "cell_type": "markdown",
   "id": "loaded-allergy",
   "metadata": {},
   "source": [
    "Para poder hacer esta transformación necesitamos:\n",
    "\n",
    "- Agregar un nodo de origen $s$ y arcos desde él a cada nodo origen original $f_i$ con capacidad $p_i$ donde $p_i$ es la oferta de cada nodo origen original.\n",
    "    \n",
    "- Agregar un nodo destino $t$ y arcos de todas los nodos destino originales $v_i$ a $t$ con capacidad $d_i$ donde $d_i$ es la demanda de cada nodo destino original."
   ]
  },
  {
   "cell_type": "markdown",
   "id": "headed-screening",
   "metadata": {},
   "source": [
    "Ahora con esta nueva red, existe un flujo que satisface la demanda si y solo si:\n",
    "    \n",
    "$$\\text{Flujo Máximo} = \\sum_{i \\in V} d_i$$"
   ]
  },
  {
   "cell_type": "markdown",
   "id": "extensive-target",
   "metadata": {},
   "source": [
    "Si ocurre lo anterior, la soución del problema de flujo máximo nos daría la respuesta de cuantas unidades enviar por cada arco para satisfacer la demanda, es decir, ontendriamos la solución del problema de flujo con oferta y demanda."
   ]
  },
  {
   "cell_type": "markdown",
   "id": "least-camera",
   "metadata": {},
   "source": [
    "## Ejemplo:\n",
    "\n",
    "Usaremos el ejemplo de la siguiente imagen:"
   ]
  },
  {
   "cell_type": "markdown",
   "id": "artistic-parish",
   "metadata": {},
   "source": [
    "![Flujo](../img/ford_fulkerson11.png)"
   ]
  },
  {
   "cell_type": "markdown",
   "id": "intended-northwest",
   "metadata": {},
   "source": [
    "En (a) observamos los nodos originales, estos tienen un número en su interior que representa la oferta y la demanda, los nodos blancos representan los nodos origen, por lo que el número representa una oferta y los nodos grises son nodos destino y estos tienen una demanda que cumplir. Observamos 5 arcos con un número que representa la capacidad de cada arco.\n",
    "\n",
    "En (b) observamos la creación de dos nodos extra, $s^*$ y $t^*$, que serán nuestros nuevos nodos origen y destino respectivamente, también se crearon nuevos arcos con capacidad igual a la oferta o demanda del nodo al que se conectan.\n",
    "\n",
    "En (c) observamos la solución de este problema, la solución del problema de flujo máximo es $6$ y es igual a la demanda de nuestra red, por lo que también se resolvió el problema de flujo con oferta y demanda."
   ]
  },
  {
   "cell_type": "markdown",
   "id": "fresh-recycling",
   "metadata": {},
   "source": [
    "## Implementación:"
   ]
  },
  {
   "cell_type": "markdown",
   "id": "accomplished-sunrise",
   "metadata": {},
   "source": [
    "Primero resolveremos el problema con el paquete *ffmaxflow*"
   ]
  },
  {
   "cell_type": "code",
   "execution_count": 23,
   "id": "short-scout",
   "metadata": {},
   "outputs": [],
   "source": [
    "import ffmaxflow as ff"
   ]
  },
  {
   "cell_type": "code",
   "execution_count": 24,
   "id": "hawaiian-services",
   "metadata": {},
   "outputs": [],
   "source": [
    "red = ff.create_flow_network()"
   ]
  },
  {
   "cell_type": "code",
   "execution_count": 25,
   "id": "outstanding-gross",
   "metadata": {},
   "outputs": [],
   "source": [
    "red.create_vertex('s', True, False) \n",
    "red.create_vertex('t', False, True) \n",
    "red.create_vertex('a', False, False)\n",
    "red.create_vertex('b', False, False)\n",
    "red.create_vertex('c', False, False)\n",
    "red.create_vertex('d', False, False)"
   ]
  },
  {
   "cell_type": "code",
   "execution_count": 26,
   "id": "absent-inclusion",
   "metadata": {},
   "outputs": [],
   "source": [
    "red.create_edge('s', 'd', 3)\n",
    "red.create_edge('s', 'a', 3)\n",
    "\n",
    "red.create_edge('a', 'c', 3)\n",
    "red.create_edge('a', 'd', 3)\n",
    "\n",
    "red.create_edge('d', 'c', 3)\n",
    "red.create_edge('d', 'b', 2)\n",
    "\n",
    "red.create_edge('b', 't', 4)\n",
    "\n",
    "red.create_edge('c', 't', 2)\n",
    "red.create_edge('c', 'b', 2)"
   ]
  },
  {
   "cell_type": "code",
   "execution_count": 27,
   "id": "sensitive-allocation",
   "metadata": {},
   "outputs": [
    {
     "data": {
      "text/plain": [
       "6"
      ]
     },
     "execution_count": 27,
     "metadata": {},
     "output_type": "execute_result"
    }
   ],
   "source": [
    "red.MaxFlow()"
   ]
  },
  {
   "cell_type": "markdown",
   "id": "collect-capture",
   "metadata": {},
   "source": [
    "Ahora resolveremos con *ffmaxc* y comprobaremos que los resultados coinciden."
   ]
  },
  {
   "cell_type": "code",
   "execution_count": 28,
   "id": "distant-publisher",
   "metadata": {},
   "outputs": [],
   "source": [
    "import ffmaxc as ffc"
   ]
  },
  {
   "cell_type": "code",
   "execution_count": 29,
   "id": "sought-husband",
   "metadata": {},
   "outputs": [],
   "source": [
    "red = ffc.create_flow_network()"
   ]
  },
  {
   "cell_type": "code",
   "execution_count": 30,
   "id": "settled-scotland",
   "metadata": {},
   "outputs": [],
   "source": [
    "red.create_vertex('s', True, False) \n",
    "red.create_vertex('t', False, True) \n",
    "red.create_vertex('a', False, False)\n",
    "red.create_vertex('b', False, False)\n",
    "red.create_vertex('c', False, False)\n",
    "red.create_vertex('d', False, False)"
   ]
  },
  {
   "cell_type": "code",
   "execution_count": 31,
   "id": "suitable-camera",
   "metadata": {},
   "outputs": [],
   "source": [
    "red.create_edge('s', 'd', 3)\n",
    "red.create_edge('s', 'a', 3)\n",
    "\n",
    "red.create_edge('a', 'c', 3)\n",
    "red.create_edge('a', 'd', 3)\n",
    "\n",
    "red.create_edge('d', 'c', 3)\n",
    "red.create_edge('d', 'b', 2)\n",
    "\n",
    "red.create_edge('b', 't', 4)\n",
    "\n",
    "red.create_edge('c', 't', 2)\n",
    "red.create_edge('c', 'b', 2)"
   ]
  },
  {
   "cell_type": "code",
   "execution_count": 32,
   "id": "immediate-silly",
   "metadata": {},
   "outputs": [
    {
     "data": {
      "text/plain": [
       "6.0"
      ]
     },
     "execution_count": 32,
     "metadata": {},
     "output_type": "execute_result"
    }
   ],
   "source": [
    "red.MaxFlow()"
   ]
  },
  {
   "cell_type": "markdown",
   "id": "similar-robin",
   "metadata": {},
   "source": [
    " Ahora usaremos el paquete networkx para recuperar el flujo de cada arco y así obtener la solución para el problema de demanda."
   ]
  },
  {
   "cell_type": "code",
   "execution_count": 20,
   "id": "experienced-intellectual",
   "metadata": {},
   "outputs": [
    {
     "data": {
      "text/plain": [
       "6"
      ]
     },
     "execution_count": 20,
     "metadata": {},
     "output_type": "execute_result"
    }
   ],
   "source": [
    "import networkx as nx\n",
    "G = nx.DiGraph()\n",
    "\n",
    "G.add_edge('s', 'd', capacity=3)\n",
    "G.add_edge('s', 'a', capacity=3)\n",
    "\n",
    "G.add_edge('a', 'c', capacity=3)\n",
    "G.add_edge('a', 'd', capacity=3)\n",
    "\n",
    "G.add_edge('d', 'c', capacity=3)\n",
    "G.add_edge('d', 'b', capacity=2)\n",
    "\n",
    "G.add_edge('b', 't', capacity=4)\n",
    "\n",
    "G.add_edge('c', 'b', capacity=2)\n",
    "G.add_edge('c', 't', capacity=2)\n",
    "\n",
    "flow_value, flow_dict = nx.maximum_flow(G, 's', 't')\n",
    "flow_value"
   ]
  },
  {
   "cell_type": "code",
   "execution_count": 21,
   "id": "patent-bailey",
   "metadata": {},
   "outputs": [
    {
     "data": {
      "text/plain": [
       "{'s': {'d': 3, 'a': 3},\n",
       " 'd': {'c': 1, 'b': 2},\n",
       " 'a': {'c': 3, 'd': 0},\n",
       " 'c': {'b': 2, 't': 2},\n",
       " 'b': {'t': 4},\n",
       " 't': {}}"
      ]
     },
     "execution_count": 21,
     "metadata": {},
     "output_type": "execute_result"
    }
   ],
   "source": [
    "flow_dict"
   ]
  },
  {
   "cell_type": "markdown",
   "id": "interstate-coral",
   "metadata": {},
   "source": [
    "Observamos que nos da una solución distinta a la de la imagen, es decir, en el problema de flujo con oferta y demanda la solución no es única. Un siguiente paso podría ser agregar un costo a cada arco para así poder encontrar la solución optima."
   ]
  }
 ],
 "metadata": {
  "kernelspec": {
   "display_name": "dpa",
   "language": "python",
   "name": "dpa"
  },
  "language_info": {
   "codemirror_mode": {
    "name": "ipython",
    "version": 3
   },
   "file_extension": ".py",
   "mimetype": "text/x-python",
   "name": "python",
   "nbconvert_exporter": "python",
   "pygments_lexer": "ipython3",
   "version": "3.7.4"
  }
 },
 "nbformat": 4,
 "nbformat_minor": 5
}
