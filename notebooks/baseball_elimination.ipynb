{
 "cells": [
  {
   "cell_type": "markdown",
   "metadata": {},
   "source": [
    "## Baseball elimination "
   ]
  },
  {
   "cell_type": "code",
   "execution_count": 23,
   "metadata": {},
   "outputs": [],
   "source": [
    "import pandas as pd\n",
    "import networkx as nx\n",
    "import csv\n",
    "import itertools\n",
    "import ffmaxflow as ff"
   ]
  },
  {
   "cell_type": "markdown",
   "metadata": {},
   "source": [
    "El béisbol en los EE.UU. Consta de dos ligas diferentes, cada una de las cuales se divide en tres divisiones de aproximadamente 5 equipos. Durante la temporada regular, cada equipo juega 162 partidos en total, la mayoría de los cuales son contra equipos de su división (76 contra la misma división, 66 contra la misma liga, 20 contra una liga diferente). El objetivo de esto es intentar clasificarse para los playoffs, lo que se puede hacer terminando primero en la división.\n",
    "\n",
    "Todo esto se suma al deseo de poder determinar si es posible ver si un equipo en particular aún puede potencialmente ganar la división y llegar a los playoffs dada la clasificación actual de la liga. Resolver este problema significa que tenemos que mirar tablas que podrían parecerse a la siguiente:"
   ]
  },
  {
   "cell_type": "markdown",
   "metadata": {},
   "source": [
    "**Datos**"
   ]
  },
  {
   "cell_type": "code",
   "execution_count": 140,
   "metadata": {},
   "outputs": [
    {
     "data": {
      "text/html": [
       "<div>\n",
       "<style scoped>\n",
       "    .dataframe tbody tr th:only-of-type {\n",
       "        vertical-align: middle;\n",
       "    }\n",
       "\n",
       "    .dataframe tbody tr th {\n",
       "        vertical-align: top;\n",
       "    }\n",
       "\n",
       "    .dataframe thead th {\n",
       "        text-align: right;\n",
       "    }\n",
       "</style>\n",
       "<table border=\"1\" class=\"dataframe\">\n",
       "  <thead>\n",
       "    <tr style=\"text-align: right;\">\n",
       "      <th></th>\n",
       "      <th>Teams</th>\n",
       "      <th>Wins</th>\n",
       "      <th>Losses</th>\n",
       "      <th>Games_left</th>\n",
       "      <th>LA</th>\n",
       "      <th>TX</th>\n",
       "      <th>OAK</th>\n",
       "      <th>HO</th>\n",
       "    </tr>\n",
       "  </thead>\n",
       "  <tbody>\n",
       "    <tr>\n",
       "      <th>0</th>\n",
       "      <td>LA</td>\n",
       "      <td>82</td>\n",
       "      <td>71</td>\n",
       "      <td>9</td>\n",
       "      <td>0</td>\n",
       "      <td>1</td>\n",
       "      <td>6</td>\n",
       "      <td>2</td>\n",
       "    </tr>\n",
       "    <tr>\n",
       "      <th>1</th>\n",
       "      <td>TX</td>\n",
       "      <td>80</td>\n",
       "      <td>79</td>\n",
       "      <td>3</td>\n",
       "      <td>1</td>\n",
       "      <td>0</td>\n",
       "      <td>0</td>\n",
       "      <td>2</td>\n",
       "    </tr>\n",
       "    <tr>\n",
       "      <th>2</th>\n",
       "      <td>OAK</td>\n",
       "      <td>78</td>\n",
       "      <td>78</td>\n",
       "      <td>6</td>\n",
       "      <td>6</td>\n",
       "      <td>0</td>\n",
       "      <td>0</td>\n",
       "      <td>0</td>\n",
       "    </tr>\n",
       "    <tr>\n",
       "      <th>3</th>\n",
       "      <td>HO</td>\n",
       "      <td>77</td>\n",
       "      <td>81</td>\n",
       "      <td>4</td>\n",
       "      <td>2</td>\n",
       "      <td>2</td>\n",
       "      <td>0</td>\n",
       "      <td>0</td>\n",
       "    </tr>\n",
       "  </tbody>\n",
       "</table>\n",
       "</div>"
      ],
      "text/plain": [
       "  Teams  Wins  Losses  Games_left  LA  TX  OAK  HO\n",
       "0    LA    82      71           9   0   1    6   2\n",
       "1    TX    80      79           3   1   0    0   2\n",
       "2   OAK    78      78           6   6   0    0   0\n",
       "3    HO    77      81           4   2   2    0   0"
      ]
     },
     "execution_count": 140,
     "metadata": {},
     "output_type": "execute_result"
    }
   ],
   "source": [
    "d = {'Teams': ['LA', 'TX', 'OAK', 'HO'], 'Wins': [82, 80, 78, 77], \n",
    "     'Losses': [71, 79, 78, 81],\n",
    "     'Games_left': [9, 3, 6, 4],\n",
    "     'LA': [0,1,6,2],\n",
    "     'TX': [1,0,0,2],\n",
    "     'OAK': [6,0,0,0],\n",
    "     'HO': [2,2,0,0]\n",
    "     }\n",
    "\n",
    "df = pd.DataFrame(data=d)\n",
    "\n",
    "df"
   ]
  },
  {
   "cell_type": "markdown",
   "metadata": {},
   "source": [
    "En este ejemplo se ve claramente que Houston ya está eliminado, la cantidad máxima de victorias que pueden obtener es $77 + 4 = 81$ que es menos de las $82$ victorias que ya tiene LA. Sin embargo, los casos de los tres equipos restantes están todos entrelazados. \n",
    "Tomemos a Texas, por ejemplo, si ganan tres juegos pueden llegar a $83$ victorias y superar a Los Ángeles. Sin embargo, para ganar que Texas gane la liga, Los Ángeles debería perder 8 de sus 9 juegos restantes. \n",
    "Entonces se tiene el siguiente escenario para LA:\n",
    "* 1 derrota contra Texas\n",
    "* 2 derrotas contra Houston\n",
    "* Y todavía tendría 5 derrotas necesarias de 6 juegos contra Oakland. \n",
    "\n",
    "Sin embargo, si esto sucede, Oakland alcanzará 83 victorias y sería el equipo ganador. Claramente, no es suficiente mirar las victorias de un equipo y los juegos que quedan por jugar. Necesitamos considerar contra quién se juegan esos juegos.\n"
   ]
  },
  {
   "cell_type": "markdown",
   "metadata": {},
   "source": [
    "Supongamos que el equipo $i$ ya ganó $w_i$ de $r_i$ juegos en total y que $r_{ij}$  es el número de juegos entre los equipos $i$ y $j$ que aún no se han jugado. \n",
    "También estableceremos $w_ {max} = w_i + r_i$, de modo que $w_{max}$ es el número máximo de victorias que el equipo puede obtener."
   ]
  },
  {
   "cell_type": "markdown",
   "metadata": {},
   "source": [
    "Usando esta notación no podemos eliminar al equipo $i$ si en algún resultado de los juegos restantes que se jugarán a lo largo de la liga, $w_max$ es al menos tan grande como las posibles victorias de todos los demás equipos."
   ]
  },
  {
   "cell_type": "markdown",
   "metadata": {},
   "source": [
    "La idea básica es asumir que Oakland gana todos los juegos restantes $w_3 + r_3$\n",
    "Intentaremos repartir los juegos restantes para que todos los demás equipos tengan $\\le w_3 + r_3$ victorias\n"
   ]
  },
  {
   "cell_type": "markdown",
   "metadata": {},
   "source": [
    "El primer paso para construir la red es crear nodos para cada una de las combinaciones de juegos restantes llamadas nodos de juego en el siguiente ejemplo. Hay un arco que conecta la fuente a cada nodo del juego por separado. Las capacidades de cada uno de estos arcos son el número de juegos que quedan entre los dos equipos representados por el nodo de juego al que está conectado el arco. Esto se muestra en el gráfico como $r_{24}$, el número de juegos que aún deben jugarse entre los equipos $2$ y $4$.\n",
    "\n"
   ]
  },
  {
   "cell_type": "markdown",
   "metadata": {},
   "source": [
    "![](../img/baseball_elimination.png)"
   ]
  },
  {
   "cell_type": "markdown",
   "metadata": {},
   "source": [
    "También requerimos un conjunto de nodos en la red que representen a los equipos conocidos como nodos de equipo. Estos nodos de equipo son alimentados por arcos de cada nodo de juego que involucra a ese equipo en particular. Las capacidades de estos arcos generalmente se modelan como infinitas, ya que el número de juegos adicionales ganados solo está restringido por el número de juegos que quedan por jugar."
   ]
  },
  {
   "cell_type": "markdown",
   "metadata": {},
   "source": [
    "Finalmente, hay un nodo sumidero que completa el gráfico al ser alimentado por arcos de todos los nodos del equipo. Las capacidades de estos arcos son la diferencia entre el número total potencial de juegos ganados por el equipo de Oakland y el número de juegos ganados por el equipo $i$. En otras palabras, esta es la cantidad de juegos que los equipos aún pueden ganar mientras el equipo de Oakland todavía no gana.\n"
   ]
  },
  {
   "cell_type": "markdown",
   "metadata": {},
   "source": [
    "La forma de saber si el equipo 3 está eliminado o no es averiguar si todos los juegos pueden fluir por la red. Este es un problema de flujo máximo: si el flujo máximo satura todos los arcos que salen de la fuente, el equipo no se elimina, pero si no hay flujo factible, el equipo 3 se elimina lamentablemente."
   ]
  },
  {
   "cell_type": "markdown",
   "metadata": {},
   "source": [
    "**Creamos la red con ffmaxflow**"
   ]
  },
  {
   "cell_type": "code",
   "execution_count": 149,
   "metadata": {},
   "outputs": [],
   "source": [
    "red = ff.create_flow_network()"
   ]
  },
  {
   "cell_type": "markdown",
   "metadata": {},
   "source": [
    "**Declaramos nodos**"
   ]
  },
  {
   "cell_type": "code",
   "execution_count": 150,
   "metadata": {},
   "outputs": [],
   "source": [
    "red.create_vertex('s', True, False) #Nodo origen\n",
    "red.create_vertex('t', False, True) #Nodo destino"
   ]
  },
  {
   "cell_type": "code",
   "execution_count": 151,
   "metadata": {},
   "outputs": [],
   "source": [
    "#Nodos equipos (partidos)\n",
    "red.create_vertex('LA', False, False)\n",
    "red.create_vertex('TX', False, False)\n",
    "red.create_vertex('OAK', False, False)\n",
    "red.create_vertex('HO', False, False)"
   ]
  },
  {
   "cell_type": "code",
   "execution_count": 152,
   "metadata": {},
   "outputs": [],
   "source": [
    "#Nodos combinados (partidos)\n",
    "red.create_vertex('LA-TX', False, False)\n",
    "red.create_vertex('LA-OAK', False, False)\n",
    "red.create_vertex('LA-HO', False, False)\n",
    "red.create_vertex('TX-OAK', False, False)\n",
    "red.create_vertex('TX-HO', False, False)\n",
    "red.create_vertex('OAK-HO', False, False)\n"
   ]
  },
  {
   "cell_type": "markdown",
   "metadata": {},
   "source": [
    "**Declaramos arcos**"
   ]
  },
  {
   "cell_type": "code",
   "execution_count": 153,
   "metadata": {},
   "outputs": [],
   "source": [
    "# Arcos que salen de s a nodos combinados \n",
    "red.create_edge('s','LA-TX', 1)\n",
    "red.create_edge('s','LA-OAK', 6)\n",
    "red.create_edge('s', 'LA-HO', 2)\n",
    "\n",
    "red.create_edge('s','TX-HO', 2)"
   ]
  },
  {
   "cell_type": "code",
   "execution_count": 154,
   "metadata": {},
   "outputs": [],
   "source": [
    "# Arcos nodos equipos a t\n",
    "red.create_edge('LA', 't', 78 + 6 - 83)\n",
    "red.create_edge('HO', 't', 78 + 6 - 77)\n",
    "red.create_edge('TX', 't', 78 + 6 - 80)\n",
    "red.create_edge('OAK', 't', 78 + 6 - 78 )\n"
   ]
  },
  {
   "cell_type": "code",
   "execution_count": 155,
   "metadata": {},
   "outputs": [],
   "source": [
    "# Arcos internos\n",
    "\n",
    "red.create_edge('LA-TX', 'LA', float('inf'))\n",
    "red.create_edge('LA-TX', 'TX' , float('inf'))\n",
    "\n",
    "red.create_edge('LA-OAK', 'LA', float('inf'))\n",
    "red.create_edge('LA-OAK', 'OAK', float('inf'))\n",
    "\n",
    "red.create_edge('LA-HO', 'LA', float('inf'))\n",
    "red.create_edge('LA-HO', 'HO', float('inf'))\n",
    "\n",
    "red.create_edge('TX-HO', 'TX', float('inf'))\n",
    "red.create_edge('TX-HO', 'HO', float('inf'))\n"
   ]
  },
  {
   "cell_type": "code",
   "execution_count": 156,
   "metadata": {},
   "outputs": [
    {
     "data": {
      "text/plain": [
       "11"
      ]
     },
     "execution_count": 156,
     "metadata": {},
     "output_type": "execute_result"
    }
   ],
   "source": [
    "red.MaxFlow()"
   ]
  },
  {
   "cell_type": "markdown",
   "metadata": {},
   "source": [
    "Por lo tanto el número de juegos que pueden ocurrir antes que gane el equipo de Oakland son $11$.\n"
   ]
  }
 ],
 "metadata": {
  "kernelspec": {
   "display_name": "optimizacion",
   "language": "python",
   "name": "optimizacion"
  },
  "language_info": {
   "codemirror_mode": {
    "name": "ipython",
    "version": 3
   },
   "file_extension": ".py",
   "mimetype": "text/x-python",
   "name": "python",
   "nbconvert_exporter": "python",
   "pygments_lexer": "ipython3",
   "version": "3.7.4"
  }
 },
 "nbformat": 4,
 "nbformat_minor": 2
}
