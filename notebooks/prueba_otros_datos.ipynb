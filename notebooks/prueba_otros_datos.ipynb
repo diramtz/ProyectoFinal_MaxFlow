{
 "cells": [
  {
   "cell_type": "markdown",
   "metadata": {},
   "source": [
    "# Prueba con otros datos"
   ]
  },
  {
   "cell_type": "code",
   "execution_count": 3,
   "metadata": {},
   "outputs": [],
   "source": [
    "import pandas as pd\n",
    "import numpy as np\n",
    "import networkx as nx\n",
    "import ffmaxflow as ff\n",
    "import time"
   ]
  },
  {
   "cell_type": "code",
   "execution_count": 5,
   "metadata": {},
   "outputs": [
    {
     "name": "stdout",
     "output_type": "stream",
     "text": [
      "Processing /home/diramtz/Documents/Optimizacion/ProyectoFinal_MaxFlow/ffmaxc\n",
      "Building wheels for collected packages: UNKNOWN\n",
      "  Building wheel for UNKNOWN (setup.py) ... \u001b[?25ldone\n",
      "\u001b[?25h  Created wheel for UNKNOWN: filename=UNKNOWN-0.0.0-cp38-cp38-linux_x86_64.whl size=250171 sha256=4e394fd5354d6a71ffeff5e181c116362381ea544bb8d131359c9d6f1a9f542b\n",
      "  Stored in directory: /tmp/pip-ephem-wheel-cache-ou7q0u6f/wheels/64/ec/00/07fbc8f81d14bd6e084a678ffbbd60843bf4aaa867d0489e69\n",
      "Successfully built UNKNOWN\n",
      "Installing collected packages: UNKNOWN\n",
      "  Attempting uninstall: UNKNOWN\n",
      "    Found existing installation: UNKNOWN 0.0.0\n",
      "    Uninstalling UNKNOWN-0.0.0:\n",
      "      Successfully uninstalled UNKNOWN-0.0.0\n",
      "Successfully installed UNKNOWN-0.0.0\n"
     ]
    }
   ],
   "source": [
    "!pip install ../ffmaxc/"
   ]
  },
  {
   "cell_type": "markdown",
   "metadata": {},
   "source": [
    "## Leer los datos"
   ]
  },
  {
   "cell_type": "code",
   "execution_count": 4,
   "metadata": {},
   "outputs": [],
   "source": [
    "df = pd.read_csv(\"../data/50v.txt\",  sep = \"\\s+\", header=None)\n",
    "#df = pd.read_csv(\"../data/500v.txt\",  sep = \"\\s+\", header=None)"
   ]
  },
  {
   "cell_type": "code",
   "execution_count": 5,
   "metadata": {},
   "outputs": [],
   "source": [
    "data = df.values.astype(int)"
   ]
  },
  {
   "cell_type": "code",
   "execution_count": 6,
   "metadata": {},
   "outputs": [
    {
     "data": {
      "text/plain": [
       "(612, 3)"
      ]
     },
     "execution_count": 6,
     "metadata": {},
     "output_type": "execute_result"
    }
   ],
   "source": [
    "data.shape"
   ]
  },
  {
   "cell_type": "code",
   "execution_count": 7,
   "metadata": {},
   "outputs": [],
   "source": [
    "#data = pd.DataFrame(data)"
   ]
  },
  {
   "cell_type": "code",
   "execution_count": 8,
   "metadata": {},
   "outputs": [
    {
     "data": {
      "text/plain": [
       "array([[ 0, 11,  0],\n",
       "       [ 0, 15, 13],\n",
       "       [ 0, 16, 23],\n",
       "       ...,\n",
       "       [48, 37, 26],\n",
       "       [48, 42,  3],\n",
       "       [48, 45, 67]])"
      ]
     },
     "execution_count": 8,
     "metadata": {},
     "output_type": "execute_result"
    }
   ],
   "source": [
    "data"
   ]
  },
  {
   "cell_type": "code",
   "execution_count": 9,
   "metadata": {},
   "outputs": [
    {
     "data": {
      "text/plain": [
       "48"
      ]
     },
     "execution_count": 9,
     "metadata": {},
     "output_type": "execute_result"
    }
   ],
   "source": [
    "max(np.unique(data[:,0]))"
   ]
  },
  {
   "cell_type": "code",
   "execution_count": 10,
   "metadata": {},
   "outputs": [
    {
     "data": {
      "text/plain": [
       "49"
      ]
     },
     "execution_count": 10,
     "metadata": {},
     "output_type": "execute_result"
    }
   ],
   "source": [
    "max(np.unique(data[:,1]))"
   ]
  },
  {
   "cell_type": "code",
   "execution_count": 11,
   "metadata": {},
   "outputs": [
    {
     "data": {
      "text/plain": [
       "{0}"
      ]
     },
     "execution_count": 11,
     "metadata": {},
     "output_type": "execute_result"
    }
   ],
   "source": [
    "set(np.unique(data[:,0]))-set(np.unique(data[:,1]))"
   ]
  },
  {
   "cell_type": "markdown",
   "metadata": {},
   "source": [
    "## Prueba ffmaxflow"
   ]
  },
  {
   "cell_type": "code",
   "execution_count": 23,
   "metadata": {},
   "outputs": [],
   "source": [
    "start_time = time.time()"
   ]
  },
  {
   "cell_type": "code",
   "execution_count": 24,
   "metadata": {},
   "outputs": [],
   "source": [
    "red = ff.create_flow_network()"
   ]
  },
  {
   "cell_type": "code",
   "execution_count": 25,
   "metadata": {},
   "outputs": [],
   "source": [
    "unique_nodes = np.unique(np.hstack((data[:,0],data[:,1])))"
   ]
  },
  {
   "cell_type": "code",
   "execution_count": 26,
   "metadata": {},
   "outputs": [],
   "source": [
    "for node in unique_nodes:\n",
    "    if unique_nodes[node] == 0:\n",
    "        red.create_vertex('{}'.format(unique_nodes[node]), True, False)\n",
    "    \n",
    "    elif unique_nodes[node] == 49:\n",
    "        red.create_vertex('{}'.format(unique_nodes[node]), False, True)\n",
    "    \n",
    "    else:\n",
    "        red.create_vertex('{}'.format(unique_nodes[node]), False, False)"
   ]
  },
  {
   "cell_type": "code",
   "execution_count": 27,
   "metadata": {},
   "outputs": [
    {
     "data": {
      "text/plain": [
       "50"
      ]
     },
     "execution_count": 27,
     "metadata": {},
     "output_type": "execute_result"
    }
   ],
   "source": [
    "len(red.vertices)"
   ]
  },
  {
   "cell_type": "code",
   "execution_count": 28,
   "metadata": {},
   "outputs": [],
   "source": [
    "for row in range(data.shape[0]):\n",
    "    red.create_edge('{}'.format(data[row,0]), '{}'.format(data[row,1]), data[row,2])"
   ]
  },
  {
   "cell_type": "code",
   "execution_count": null,
   "metadata": {
    "tags": []
   },
   "outputs": [],
   "source": [
    "red.MaxFlow()"
   ]
  },
  {
   "cell_type": "code",
   "execution_count": null,
   "metadata": {},
   "outputs": [],
   "source": [
    "end_time = time.time()"
   ]
  },
  {
   "cell_type": "code",
   "execution_count": null,
   "metadata": {},
   "outputs": [],
   "source": [
    "secs_o = end_time-start_time\n",
    "print(\"El cálculo de la solución tomó\",secs_0,\"segundos\" )"
   ]
  },
  {
   "cell_type": "code",
   "execution_count": null,
   "metadata": {},
   "outputs": [],
   "source": [
    "# Cambiar maximum recursion depth \n",
    "import sys\n",
    "sys.setrecursionlimit(1500000)"
   ]
  },
  {
   "cell_type": "markdown",
   "metadata": {},
   "source": [
    "## Resultado con networkx"
   ]
  },
  {
   "cell_type": "code",
   "execution_count": 12,
   "metadata": {},
   "outputs": [],
   "source": [
    "G = nx.DiGraph()"
   ]
  },
  {
   "cell_type": "code",
   "execution_count": 13,
   "metadata": {},
   "outputs": [],
   "source": [
    "for row in range(data.shape[0]):\n",
    "    G.add_edge('{}'.format(data[row,0]), '{}'.format(data[row,1]), capacity = data[row,2])"
   ]
  },
  {
   "cell_type": "code",
   "execution_count": 14,
   "metadata": {},
   "outputs": [],
   "source": [
    "flow_value, flow_dict = nx.maximum_flow(G, '1', '49')"
   ]
  },
  {
   "cell_type": "code",
   "execution_count": 15,
   "metadata": {},
   "outputs": [
    {
     "data": {
      "text/plain": [
       "643"
      ]
     },
     "execution_count": 15,
     "metadata": {},
     "output_type": "execute_result"
    }
   ],
   "source": [
    "flow_value"
   ]
  },
  {
   "cell_type": "markdown",
   "metadata": {},
   "source": [
    "## Paquete reimplementado"
   ]
  },
  {
   "cell_type": "code",
   "execution_count": 16,
   "metadata": {},
   "outputs": [],
   "source": [
    "import ffmaxc as ffc"
   ]
  },
  {
   "cell_type": "code",
   "execution_count": 17,
   "metadata": {},
   "outputs": [],
   "source": [
    "red = ffc.create_flow_network()"
   ]
  },
  {
   "cell_type": "code",
   "execution_count": 18,
   "metadata": {},
   "outputs": [],
   "source": [
    "unique_nodes = np.unique(np.hstack((data[:,0],data[:,1])))"
   ]
  },
  {
   "cell_type": "code",
   "execution_count": 19,
   "metadata": {},
   "outputs": [],
   "source": [
    "for node in unique_nodes:\n",
    "    if unique_nodes[node] == 1:\n",
    "        red.create_vertex('{}'.format(unique_nodes[node]), True, False)\n",
    "    \n",
    "    elif unique_nodes[node] == 49:\n",
    "        red.create_vertex('{}'.format(unique_nodes[node]), False, True)\n",
    "    \n",
    "    else:\n",
    "        red.create_vertex('{}'.format(unique_nodes[node]), False, False)"
   ]
  },
  {
   "cell_type": "code",
   "execution_count": 20,
   "metadata": {},
   "outputs": [
    {
     "data": {
      "text/plain": [
       "50"
      ]
     },
     "execution_count": 20,
     "metadata": {},
     "output_type": "execute_result"
    }
   ],
   "source": [
    "len(red.vertices)"
   ]
  },
  {
   "cell_type": "code",
   "execution_count": 21,
   "metadata": {},
   "outputs": [],
   "source": [
    "for row in range(data.shape[0]):\n",
    "    red.create_edge('{}'.format(data[row,0]), '{}'.format(data[row,1]), data[row,2])"
   ]
  },
  {
   "cell_type": "code",
   "execution_count": 22,
   "metadata": {},
   "outputs": [
    {
     "data": {
      "text/plain": [
       "643.0"
      ]
     },
     "execution_count": 22,
     "metadata": {},
     "output_type": "execute_result"
    }
   ],
   "source": [
    "red.MaxFlow()"
   ]
  },
  {
   "cell_type": "markdown",
   "metadata": {},
   "source": [
    "## Descargar datos"
   ]
  },
  {
   "cell_type": "code",
   "execution_count": 13,
   "metadata": {},
   "outputs": [
    {
     "data": {
      "text/plain": [
       "652459"
      ]
     },
     "execution_count": 13,
     "metadata": {},
     "output_type": "execute_result"
    }
   ],
   "source": [
    "import requests\n",
    "\n",
    "\n",
    "url = 'https://media.githubusercontent.com/media/SumitPadhiyar/parallel_ford_fulkerson_gpu/master/dataset/500v.in'\n",
    "r = requests.get(url)\n",
    "\n",
    "open('../data/500v.txt', 'wb').write(r.content)"
   ]
  },
  {
   "cell_type": "code",
   "execution_count": null,
   "metadata": {},
   "outputs": [],
   "source": []
  }
 ],
 "metadata": {
  "kernelspec": {
   "display_name": "Python 3",
   "language": "python",
   "name": "python3"
  },
  "language_info": {
   "codemirror_mode": {
    "name": "ipython",
    "version": 3
   },
   "file_extension": ".py",
   "mimetype": "text/x-python",
   "name": "python",
   "nbconvert_exporter": "python",
   "pygments_lexer": "ipython3",
   "version": "3.8.5"
  }
 },
 "nbformat": 4,
 "nbformat_minor": 4
}
